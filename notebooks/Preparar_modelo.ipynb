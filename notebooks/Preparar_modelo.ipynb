{
 "cells": [
  {
   "cell_type": "code",
   "execution_count": 25,
   "metadata": {},
   "outputs": [],
   "source": [
    "import pandas as pd\n",
    "import numpy as np\n",
    "import vaex\n",
    "import pickle"
   ]
  },
  {
   "cell_type": "code",
   "execution_count": 12,
   "metadata": {},
   "outputs": [
    {
     "data": {
      "text/html": [
       "<style>.vaex-description pre {\n",
       "          max-width : 450px;\n",
       "          white-space : nowrap;\n",
       "          overflow : hidden;\n",
       "          text-overflow: ellipsis;\n",
       "        }\n",
       "\n",
       "        .vex-description pre:hover {\n",
       "          max-width : initial;\n",
       "          white-space: pre;\n",
       "        }</style>"
      ],
      "text/plain": [
       "<IPython.core.display.HTML object>"
      ]
     },
     "metadata": {},
     "output_type": "display_data"
    },
    {
     "data": {
      "text/html": [
       "<div><h2>traf_hist_unir</h2> <b>rows</b>: 563,682,234</div><h2>Columns:</h2><table class='table-striped'><thead><tr><th>column</th><th>type</th><th>unit</th><th>description</th><th>expression</th></tr></thead><tr><td>idelem</td><td>str</td><td></td><td ><pre></pre></td><td></td></tr><tr><td>fecha_full</td><td>str</td><td></td><td ><pre></pre></td><td></td></tr><tr><td>intensidad</td><td>float64</td><td></td><td ><pre></pre></td><td></td></tr><tr><td>ocupacion</td><td>float64</td><td></td><td ><pre></pre></td><td></td></tr><tr><td>carga</td><td>float64</td><td></td><td ><pre></pre></td><td></td></tr><tr><td>prec</td><td>str</td><td></td><td ><pre></pre></td><td></td></tr><tr><td>velmedia</td><td>str</td><td></td><td ><pre></pre></td><td></td></tr><tr><td>unir</td><td>str</td><td></td><td ><pre></pre></td><td></td></tr></table><h2>Data:</h2><table>\n",
       "<thead>\n",
       "<tr><th>#                                      </th><th>idelem  </th><th>fecha_full         </th><th>intensidad  </th><th>ocupacion  </th><th>carga  </th><th>prec  </th><th>velmedia  </th><th>unir                     </th></tr>\n",
       "</thead>\n",
       "<tbody>\n",
       "<tr><td><i style='opacity: 0.6'>0</i>          </td><td>3564    </td><td>2013-01-20 20:30:00</td><td>8.0         </td><td>0.0        </td><td>1.0    </td><td>0,7   </td><td>3,3       </td><td>2013-01-20 20:30:00 3564 </td></tr>\n",
       "<tr><td><i style='opacity: 0.6'>1</i>          </td><td>3882    </td><td>2013-01-20 20:30:00</td><td>1164.0      </td><td>4.0        </td><td>22.0   </td><td>0,7   </td><td>3,3       </td><td>2013-01-20 20:30:00 3882 </td></tr>\n",
       "<tr><td><i style='opacity: 0.6'>2</i>          </td><td>3883    </td><td>2013-01-20 20:30:00</td><td>1143.0      </td><td>4.0        </td><td>22.0   </td><td>0,7   </td><td>3,3       </td><td>2013-01-20 20:30:00 3883 </td></tr>\n",
       "<tr><td><i style='opacity: 0.6'>3</i>          </td><td>3884    </td><td>2013-01-20 20:30:00</td><td>958.0       </td><td>3.0        </td><td>18.0   </td><td>0,7   </td><td>3,3       </td><td>2013-01-20 20:30:00 3884 </td></tr>\n",
       "<tr><td><i style='opacity: 0.6'>4</i>          </td><td>3885    </td><td>2013-01-20 20:30:00</td><td>1028.0      </td><td>4.0        </td><td>20.0   </td><td>0,7   </td><td>3,3       </td><td>2013-01-20 20:30:00 3885 </td></tr>\n",
       "<tr><td>...                                    </td><td>...     </td><td>...                </td><td>...         </td><td>...        </td><td>...    </td><td>...   </td><td>...       </td><td>...                      </td></tr>\n",
       "<tr><td><i style='opacity: 0.6'>563,682,229</i></td><td>11058   </td><td>2022-12-31 21:30:00</td><td>259.0       </td><td>0.0        </td><td>8.0    </td><td>0,1   </td><td>0,3       </td><td>2022-12-31 21:30:00 11058</td></tr>\n",
       "<tr><td><i style='opacity: 0.6'>563,682,230</i></td><td>11058   </td><td>2022-12-31 22:00:00</td><td>125.0       </td><td>0.0        </td><td>3.0    </td><td>0,1   </td><td>0,3       </td><td>2022-12-31 22:00:00 11058</td></tr>\n",
       "<tr><td><i style='opacity: 0.6'>563,682,231</i></td><td>11058   </td><td>2022-12-31 22:30:00</td><td>68.0        </td><td>0.0        </td><td>1.0    </td><td>0,1   </td><td>0,3       </td><td>2022-12-31 22:30:00 11058</td></tr>\n",
       "<tr><td><i style='opacity: 0.6'>563,682,232</i></td><td>11058   </td><td>2022-12-31 23:00:00</td><td>66.0        </td><td>0.0        </td><td>1.0    </td><td>0,1   </td><td>0,3       </td><td>2022-12-31 23:00:00 11058</td></tr>\n",
       "<tr><td><i style='opacity: 0.6'>563,682,233</i></td><td>11058   </td><td>2022-12-31 23:30:00</td><td>42.0        </td><td>0.0        </td><td>0.0    </td><td>0,1   </td><td>0,3       </td><td>2022-12-31 23:30:00 11058</td></tr>\n",
       "</tbody>\n",
       "</table>"
      ],
      "text/plain": [
       "<IPython.core.display.HTML object>"
      ]
     },
     "metadata": {},
     "output_type": "display_data"
    }
   ],
   "source": [
    "traf = vaex.open('../../TRAFICO/traf_hist_unir.hdf5')\n",
    "\n",
    "traf.info()"
   ]
  },
  {
   "cell_type": "code",
   "execution_count": 26,
   "metadata": {},
   "outputs": [],
   "source": [
    "acci_filtered_vaex = vaex.open('../../acci_filtered_vaex.hdf5')\n",
    "accis_id = acci_filtered_vaex.to_pandas_df()\n",
    "\n",
    "ids = accis_id.idelem.value_counts().index"
   ]
  },
  {
   "cell_type": "code",
   "execution_count": 27,
   "metadata": {},
   "outputs": [
    {
     "data": {
      "text/plain": [
       "Index(['4206', '4436', '4774', '3901', '4452', '5828', '4170', '3798', '5484',\n",
       "       '4166',\n",
       "       ...\n",
       "       '5217', '6608', '5388', '6266', '6420', '10443', '10406', '10584',\n",
       "       '10462', '5426'],\n",
       "      dtype='object', length=4371)"
      ]
     },
     "execution_count": 27,
     "metadata": {},
     "output_type": "execute_result"
    }
   ],
   "source": [
    "ids"
   ]
  },
  {
   "cell_type": "code",
   "execution_count": 28,
   "metadata": {},
   "outputs": [],
   "source": [
    "acci = pd.read_csv('../data/biblio_acci.csv')"
   ]
  },
  {
   "cell_type": "code",
   "execution_count": 29,
   "metadata": {},
   "outputs": [
    {
     "name": "stderr",
     "output_type": "stream",
     "text": [
      "  0%|          | 0/4371 [02:15<?, ?it/s]\n",
      "\n",
      "KeyboardInterrupt\n",
      "\n"
     ]
    }
   ],
   "source": [
    "import tqdm\n",
    "\n",
    "for id in tqdm.tqdm(ids):\n",
    "\n",
    "    #filtrar por idelem\n",
    "\n",
    "    traf = traf[traf.idelem == id]\n",
    "\n",
    "    #generar tabla para modelo\n",
    "\n",
    "    if len(traf) > 0:\n",
    "\n",
    "        traf = traf.to_pandas_df()\n",
    "\n",
    "        traf_acci = pd.merge(traf, acci, on='unir', how='left')\n",
    "\n",
    "        traf_acci['accidente'] = traf_acci['accidente'].fillna(0)\n",
    "\n",
    "        traf_acci.drop(['unir', 'idelem'], axis=1, inplace=True)\n",
    "\n",
    "        traf_acci['fecha'] = traf_acci['fecha_full'].str.split(' ').str[0]\n",
    "\n",
    "        traf_acci['hora'] = traf_acci['fecha_full'].str.split(' ').str[1]\n",
    "\n",
    "        traf_acci.drop('fecha_full', axis=1, inplace=True)\n",
    "\n",
    "        traf_acci['prec'] = pd.to_numeric(traf_acci['prec'].str.replace(',', '.'), errors='coerce')\n",
    "\n",
    "        traf_acci['velmedia'] = pd.to_numeric(traf_acci['velmedia'].str.replace(',', '.'), errors='coerce')\n",
    "\n",
    "        traf_acci.fillna(0, inplace=True)\n",
    "\n",
    "        traf_acci['mes'] = traf_acci['fecha'].str.split('-').str[1]\n",
    "\n",
    "        traf_acci['fecha'] = pd.to_datetime(traf_acci['fecha'])\n",
    "\n",
    "        traf_acci['dia_semana'] = traf_acci['fecha'].dt.dayofweek\n",
    "\n",
    "        traf_acci.drop('fecha', axis=1, inplace=True)\n",
    "\n",
    "        traf_acci['dia_semana'] = traf_acci['dia_semana'].astype('object')\n",
    "\n",
    "        #get dummies\n",
    "\n",
    "        traf_acci_dum = pd.get_dummies(traf_acci, columns=['mes', 'dia_semana', 'hora'])\n",
    "\n",
    "        #Xtest, ytest\n",
    "\n",
    "        from sklearn.model_selection import train_test_split\n",
    "\n",
    "        X = traf_acci_dum.drop('accidente', axis=1)\n",
    "\n",
    "        y = traf_acci_dum['accidente']\n",
    "\n",
    "        X_train, X_test, y_train, y_test = train_test_split(X, y, test_size=0.2, random_state=42)\n",
    "\n",
    "        #scale\n",
    "\n",
    "        from sklearn.preprocessing import StandardScaler\n",
    "\n",
    "        scaler = StandardScaler()\n",
    "\n",
    "        X_train = scaler.fit_transform(X_train)\n",
    "\n",
    "        X_test = scaler.transform(X_test)\n",
    "\n",
    "        #model\n",
    "\n",
    "        model = LogisticRegression()\n",
    "        model.fit(X_train, y_train)\n",
    "\n",
    "        filename = 'modelo_' + id + '.sav'\n",
    "        pickle.dump(model, open('../modelos/' + filename, 'wb'))\n",
    "    "
   ]
  },
  {
   "cell_type": "code",
   "execution_count": null,
   "metadata": {},
   "outputs": [],
   "source": []
  },
  {
   "cell_type": "code",
   "execution_count": null,
   "metadata": {},
   "outputs": [],
   "source": []
  },
  {
   "cell_type": "code",
   "execution_count": null,
   "metadata": {},
   "outputs": [],
   "source": []
  }
 ],
 "metadata": {
  "kernelspec": {
   "display_name": "base",
   "language": "python",
   "name": "python3"
  },
  "language_info": {
   "codemirror_mode": {
    "name": "ipython",
    "version": 3
   },
   "file_extension": ".py",
   "mimetype": "text/x-python",
   "name": "python",
   "nbconvert_exporter": "python",
   "pygments_lexer": "ipython3",
   "version": "3.9.13"
  },
  "orig_nbformat": 4
 },
 "nbformat": 4,
 "nbformat_minor": 2
}
