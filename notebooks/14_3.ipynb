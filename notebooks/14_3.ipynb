{
 "cells": [
  {
   "cell_type": "code",
   "execution_count": 1,
   "metadata": {},
   "outputs": [],
   "source": [
    "import pandas as pd\n",
    "import numpy as np\n",
    "import vaex"
   ]
  },
  {
   "cell_type": "code",
   "execution_count": 2,
   "metadata": {},
   "outputs": [
    {
     "data": {
      "text/html": [
       "<style>.vaex-description pre {\n",
       "          max-width : 450px;\n",
       "          white-space : nowrap;\n",
       "          overflow : hidden;\n",
       "          text-overflow: ellipsis;\n",
       "        }\n",
       "\n",
       "        .vex-description pre:hover {\n",
       "          max-width : initial;\n",
       "          white-space: pre;\n",
       "        }</style>"
      ],
      "text/plain": [
       "<IPython.core.display.HTML object>"
      ]
     },
     "metadata": {},
     "output_type": "display_data"
    },
    {
     "data": {
      "text/html": [
       "<div><h2>traf_hist_unir</h2> <b>rows</b>: 563,682,234</div><h2>Columns:</h2><table class='table-striped'><thead><tr><th>column</th><th>type</th><th>unit</th><th>description</th><th>expression</th></tr></thead><tr><td>idelem</td><td>str</td><td></td><td ><pre></pre></td><td></td></tr><tr><td>fecha_full</td><td>str</td><td></td><td ><pre></pre></td><td></td></tr><tr><td>intensidad</td><td>float64</td><td></td><td ><pre></pre></td><td></td></tr><tr><td>ocupacion</td><td>float64</td><td></td><td ><pre></pre></td><td></td></tr><tr><td>carga</td><td>float64</td><td></td><td ><pre></pre></td><td></td></tr><tr><td>prec</td><td>str</td><td></td><td ><pre></pre></td><td></td></tr><tr><td>velmedia</td><td>str</td><td></td><td ><pre></pre></td><td></td></tr><tr><td>unir</td><td>str</td><td></td><td ><pre></pre></td><td></td></tr></table><h2>Data:</h2><table>\n",
       "<thead>\n",
       "<tr><th>#                                      </th><th>idelem  </th><th>fecha_full         </th><th>intensidad  </th><th>ocupacion  </th><th>carga  </th><th>prec  </th><th>velmedia  </th><th>unir                     </th></tr>\n",
       "</thead>\n",
       "<tbody>\n",
       "<tr><td><i style='opacity: 0.6'>0</i>          </td><td>3564    </td><td>2013-01-20 20:30:00</td><td>8.0         </td><td>0.0        </td><td>1.0    </td><td>0,7   </td><td>3,3       </td><td>2013-01-20 20:30:00 3564 </td></tr>\n",
       "<tr><td><i style='opacity: 0.6'>1</i>          </td><td>3882    </td><td>2013-01-20 20:30:00</td><td>1164.0      </td><td>4.0        </td><td>22.0   </td><td>0,7   </td><td>3,3       </td><td>2013-01-20 20:30:00 3882 </td></tr>\n",
       "<tr><td><i style='opacity: 0.6'>2</i>          </td><td>3883    </td><td>2013-01-20 20:30:00</td><td>1143.0      </td><td>4.0        </td><td>22.0   </td><td>0,7   </td><td>3,3       </td><td>2013-01-20 20:30:00 3883 </td></tr>\n",
       "<tr><td><i style='opacity: 0.6'>3</i>          </td><td>3884    </td><td>2013-01-20 20:30:00</td><td>958.0       </td><td>3.0        </td><td>18.0   </td><td>0,7   </td><td>3,3       </td><td>2013-01-20 20:30:00 3884 </td></tr>\n",
       "<tr><td><i style='opacity: 0.6'>4</i>          </td><td>3885    </td><td>2013-01-20 20:30:00</td><td>1028.0      </td><td>4.0        </td><td>20.0   </td><td>0,7   </td><td>3,3       </td><td>2013-01-20 20:30:00 3885 </td></tr>\n",
       "<tr><td>...                                    </td><td>...     </td><td>...                </td><td>...         </td><td>...        </td><td>...    </td><td>...   </td><td>...       </td><td>...                      </td></tr>\n",
       "<tr><td><i style='opacity: 0.6'>563,682,229</i></td><td>11058   </td><td>2022-12-31 21:30:00</td><td>259.0       </td><td>0.0        </td><td>8.0    </td><td>0,1   </td><td>0,3       </td><td>2022-12-31 21:30:00 11058</td></tr>\n",
       "<tr><td><i style='opacity: 0.6'>563,682,230</i></td><td>11058   </td><td>2022-12-31 22:00:00</td><td>125.0       </td><td>0.0        </td><td>3.0    </td><td>0,1   </td><td>0,3       </td><td>2022-12-31 22:00:00 11058</td></tr>\n",
       "<tr><td><i style='opacity: 0.6'>563,682,231</i></td><td>11058   </td><td>2022-12-31 22:30:00</td><td>68.0        </td><td>0.0        </td><td>1.0    </td><td>0,1   </td><td>0,3       </td><td>2022-12-31 22:30:00 11058</td></tr>\n",
       "<tr><td><i style='opacity: 0.6'>563,682,232</i></td><td>11058   </td><td>2022-12-31 23:00:00</td><td>66.0        </td><td>0.0        </td><td>1.0    </td><td>0,1   </td><td>0,3       </td><td>2022-12-31 23:00:00 11058</td></tr>\n",
       "<tr><td><i style='opacity: 0.6'>563,682,233</i></td><td>11058   </td><td>2022-12-31 23:30:00</td><td>42.0        </td><td>0.0        </td><td>0.0    </td><td>0,1   </td><td>0,3       </td><td>2022-12-31 23:30:00 11058</td></tr>\n",
       "</tbody>\n",
       "</table>"
      ],
      "text/plain": [
       "<IPython.core.display.HTML object>"
      ]
     },
     "metadata": {},
     "output_type": "display_data"
    }
   ],
   "source": [
    "traf = vaex.open('../../TRAFICO/traf_hist_unir.hdf5')\n",
    "\n",
    "traf.info()\n"
   ]
  },
  {
   "cell_type": "code",
   "execution_count": 3,
   "metadata": {},
   "outputs": [
    {
     "data": {
      "text/html": [
       "<style>.vaex-description pre {\n",
       "          max-width : 450px;\n",
       "          white-space : nowrap;\n",
       "          overflow : hidden;\n",
       "          text-overflow: ellipsis;\n",
       "        }\n",
       "\n",
       "        .vex-description pre:hover {\n",
       "          max-width : initial;\n",
       "          white-space: pre;\n",
       "        }</style>"
      ],
      "text/plain": [
       "<IPython.core.display.HTML object>"
      ]
     },
     "metadata": {},
     "output_type": "display_data"
    },
    {
     "data": {
      "text/html": [
       "<div><h2>acci_filtered_vaex</h2> <b>rows</b>: 112,833</div><h2>Columns:</h2><table class='table-striped'><thead><tr><th>column</th><th>type</th><th>unit</th><th>description</th><th>expression</th></tr></thead><tr><td>fecha</td><td>str</td><td></td><td ><pre></pre></td><td></td></tr><tr><td>station</td><td>str</td><td></td><td ><pre></pre></td><td></td></tr><tr><td>tmed</td><td>str</td><td></td><td ><pre></pre></td><td></td></tr><tr><td>prec</td><td>str</td><td></td><td ><pre></pre></td><td></td></tr><tr><td>velmedia</td><td>str</td><td></td><td ><pre></pre></td><td></td></tr><tr><td>hora</td><td>str</td><td></td><td ><pre></pre></td><td></td></tr><tr><td>distrito</td><td>str</td><td></td><td ><pre></pre></td><td></td></tr><tr><td>localizacion</td><td>str</td><td></td><td ><pre></pre></td><td></td></tr><tr><td>coordenada_x_utm</td><td>float64</td><td></td><td ><pre></pre></td><td></td></tr><tr><td>coordenada_y_utm</td><td>float64</td><td></td><td ><pre></pre></td><td></td></tr><tr><td>lesividad</td><td>str</td><td></td><td ><pre></pre></td><td></td></tr><tr><td>meteo</td><td>str</td><td></td><td ><pre></pre></td><td></td></tr><tr><td>latitud</td><td>float64</td><td></td><td ><pre></pre></td><td></td></tr><tr><td>longitud</td><td>float64</td><td></td><td ><pre></pre></td><td></td></tr><tr><td>idelem</td><td>str</td><td></td><td ><pre></pre></td><td></td></tr></table><h2>Data:</h2><table>\n",
       "<thead>\n",
       "<tr><th>#                                  </th><th>fecha     </th><th>station  </th><th>tmed  </th><th>prec  </th><th>velmedia  </th><th>hora  </th><th>distrito           </th><th>localizacion                                </th><th>coordenada_x_utm  </th><th>coordenada_y_utm  </th><th>lesividad  </th><th>meteo    </th><th>latitud          </th><th>longitud          </th><th>idelem  </th></tr>\n",
       "</thead>\n",
       "<tbody>\n",
       "<tr><td><i style='opacity: 0.6'>0</i>      </td><td>2013-01-01</td><td>3129     </td><td>5,6   </td><td>0,0   </td><td>1,4       </td><td>19:00 </td><td>SAN BLAS           </td><td>GLORIETA DE ARCENTALES - AUTOVIA  M-40      </td><td>448272.81057160266</td><td>4476161.067585344 </td><td>HL         </td><td>Normal   </td><td>40.43448402761474</td><td>-3.609871849697397</td><td>6404    </td></tr>\n",
       "<tr><td><i style='opacity: 0.6'>1</i>      </td><td>2013-01-01</td><td>3194U    </td><td>5,6   </td><td>0,4   </td><td>0,3       </td><td>00:00 </td><td>FUENCARRAL-EL PARDO</td><td>AUTOVIA  M-30 CALZADA 1 KM., 31400          </td><td>442092.7632886959 </td><td>4481384.752436036 </td><td>HL         </td><td>Lloviendo</td><td>40.4811339929901 </td><td>-3.68320747398592 </td><td>4608    </td></tr>\n",
       "<tr><td><i style='opacity: 0.6'>2</i>      </td><td>2013-01-01</td><td>3194U    </td><td>5,6   </td><td>0,4   </td><td>0,3       </td><td>00:00 </td><td>TETUAN             </td><td>AVENIDA DE ASTURIAS - CALLE DEL CAÑAVERAL   </td><td>441163.603568005  </td><td>4479989.535086828 </td><td>HL         </td><td>Lloviendo</td><td>40.4685          </td><td>-3.6940398        </td><td>4579    </td></tr>\n",
       "<tr><td><i style='opacity: 0.6'>3</i>      </td><td>2013-01-01</td><td>3194U    </td><td>5,6   </td><td>0,4   </td><td>0,3       </td><td>13:00 </td><td>MONCLOA-ARAVACA    </td><td>AVENIDA DEL DOCTOR FEDERICO RUBIO Y GALI, 65</td><td>439401.8795024976 </td><td>4478457.766241867 </td><td>HL         </td><td>Normal   </td><td>40.4545746       </td><td>-3.7146735        </td><td>4516    </td></tr>\n",
       "<tr><td><i style='opacity: 0.6'>4</i>      </td><td>2013-01-01</td><td>3194U    </td><td>5,6   </td><td>0,4   </td><td>0,3       </td><td>17:00 </td><td>TETUAN             </td><td>CALLE DE LOPE DE HARO, 8                    </td><td>440446.4356479125 </td><td>4478756.797412972 </td><td>HL         </td><td>Normal   </td><td>40.4573439       </td><td>-3.7023833        </td><td>5632    </td></tr>\n",
       "<tr><td>...                                </td><td>...       </td><td>...      </td><td>...   </td><td>...   </td><td>...       </td><td>...   </td><td>...                </td><td>...                                         </td><td>...               </td><td>...               </td><td>...        </td><td>...      </td><td>...              </td><td>...               </td><td>...     </td></tr>\n",
       "<tr><td><i style='opacity: 0.6'>112,828</i></td><td>2022-12-31</td><td>3195     </td><td>8,9   </td><td>0,0   </td><td>0,8       </td><td>5:00  </td><td>SAN BLAS-CANILLEJAS</td><td>CALLE TAMPICO, 16                           </td><td>446310.0          </td><td>4476975.0         </td><td>NO ASIGNADA</td><td>Normal   </td><td>40.4401793711091 </td><td>-3.63246408827355 </td><td>10554   </td></tr>\n",
       "<tr><td><i style='opacity: 0.6'>112,829</i></td><td>2022-12-31</td><td>3195     </td><td>8,9   </td><td>0,0   </td><td>0,8       </td><td>6:00  </td><td>PUENTE DE VALLECAS </td><td>AVDA. ALBUFERA, 246                         </td><td>445162.0          </td><td>4471242.0         </td><td>HL         </td><td>Normal   </td><td>40.3898906429975 </td><td>-3.64509099332049 </td><td>6947    </td></tr>\n",
       "<tr><td><i style='opacity: 0.6'>112,830</i></td><td>2022-12-31</td><td>3195     </td><td>8,9   </td><td>0,0   </td><td>0,8       </td><td>6:00  </td><td>SALAMANCA          </td><td>C/ JOSE ORTEGA Y GASSET, 40-42              </td><td>442441.0          </td><td>4475706.0         </td><td>NO ASIGNADA</td><td>Normal   </td><td>40.4299901346503 </td><td>-3.67783852336404 </td><td>4006    </td></tr>\n",
       "<tr><td><i style='opacity: 0.6'>112,831</i></td><td>2022-12-31</td><td>3195     </td><td>8,9   </td><td>0,0   </td><td>0,8       </td><td>6:30  </td><td>VILLA DE VALLECAS  </td><td>CALLE ENRIQUE GARCIA ALVAREZ, 11            </td><td>447813.0          </td><td>4470373.0         </td><td>NO ASIGNADA</td><td>Normal   </td><td>40.3825504971785 </td><td>-3.61081734849786 </td><td>10785   </td></tr>\n",
       "<tr><td><i style='opacity: 0.6'>112,832</i></td><td>2022-12-31</td><td>3195     </td><td>8,9   </td><td>0,0   </td><td>0,8       </td><td>8:30  </td><td>MORATALAZ          </td><td>CMNO. ANTIGUO VIEJO DE VICALVARO, FAROLA 172</td><td>447542.0          </td><td>4472949.0         </td><td>MT         </td><td>Normal   </td><td>40.4052726501532 </td><td>-3.61623106817355 </td><td>6212    </td></tr>\n",
       "</tbody>\n",
       "</table>"
      ],
      "text/plain": [
       "<IPython.core.display.HTML object>"
      ]
     },
     "metadata": {},
     "output_type": "display_data"
    }
   ],
   "source": [
    "#read acci_filtered_vaex\n",
    "\n",
    "acci_filtered_vaex = vaex.open('../../acci_filtered_vaex.hdf5')\n",
    "\n",
    "acci_filtered_vaex.info()"
   ]
  },
  {
   "cell_type": "code",
   "execution_count": 4,
   "metadata": {},
   "outputs": [],
   "source": [
    "acci_fil = acci_filtered_vaex[['idelem', 'lesividad']]"
   ]
  },
  {
   "cell_type": "code",
   "execution_count": 5,
   "metadata": {},
   "outputs": [],
   "source": [
    "#from vaex to pandas\n",
    "\n",
    "acci_fil = acci_fil.to_pandas_df()"
   ]
  },
  {
   "cell_type": "code",
   "execution_count": 6,
   "metadata": {},
   "outputs": [],
   "source": [
    "#drop duplicates by idelem\n",
    "\n",
    "acci_fil = acci_fil.drop_duplicates(subset='idelem', keep='first')"
   ]
  },
  {
   "cell_type": "code",
   "execution_count": 7,
   "metadata": {},
   "outputs": [],
   "source": [
    "#acci_fil to vaex\n",
    "\n",
    "acci_fil_vaex = vaex.from_pandas(acci_fil)"
   ]
  },
  {
   "cell_type": "code",
   "execution_count": 8,
   "metadata": {},
   "outputs": [],
   "source": [
    "#left join acci_fil with traf\n",
    "\n",
    "traf_acci = traf.join(acci_fil_vaex, on='idelem', how='left')"
   ]
  },
  {
   "cell_type": "code",
   "execution_count": 9,
   "metadata": {},
   "outputs": [
    {
     "data": {
      "text/html": [
       "<style>.vaex-description pre {\n",
       "          max-width : 450px;\n",
       "          white-space : nowrap;\n",
       "          overflow : hidden;\n",
       "          text-overflow: ellipsis;\n",
       "        }\n",
       "\n",
       "        .vex-description pre:hover {\n",
       "          max-width : initial;\n",
       "          white-space: pre;\n",
       "        }</style>"
      ],
      "text/plain": [
       "<IPython.core.display.HTML object>"
      ]
     },
     "metadata": {},
     "output_type": "display_data"
    },
    {
     "data": {
      "text/html": [
       "<div><h2>traf_hist_unir</h2> <b>rows</b>: 563,682,234</div><h2>Columns:</h2><table class='table-striped'><thead><tr><th>column</th><th>type</th><th>unit</th><th>description</th><th>expression</th></tr></thead><tr><td>idelem</td><td>str</td><td></td><td ><pre></pre></td><td></td></tr><tr><td>fecha_full</td><td>str</td><td></td><td ><pre></pre></td><td></td></tr><tr><td>intensidad</td><td>float64</td><td></td><td ><pre></pre></td><td></td></tr><tr><td>ocupacion</td><td>float64</td><td></td><td ><pre></pre></td><td></td></tr><tr><td>carga</td><td>float64</td><td></td><td ><pre></pre></td><td></td></tr><tr><td>prec</td><td>str</td><td></td><td ><pre></pre></td><td></td></tr><tr><td>velmedia</td><td>str</td><td></td><td ><pre></pre></td><td></td></tr><tr><td>unir</td><td>str</td><td></td><td ><pre></pre></td><td></td></tr><tr><td>lesividad</td><td>str</td><td></td><td ><pre></pre></td><td></td></tr></table><h2>Data:</h2><table>\n",
       "<thead>\n",
       "<tr><th>#                                      </th><th>idelem  </th><th>fecha_full         </th><th>intensidad  </th><th>ocupacion  </th><th>carga  </th><th>prec  </th><th>velmedia  </th><th>unir                     </th><th>lesividad  </th></tr>\n",
       "</thead>\n",
       "<tbody>\n",
       "<tr><td><i style='opacity: 0.6'>0</i>          </td><td>3564    </td><td>2013-01-20 20:30:00</td><td>8.0         </td><td>0.0        </td><td>1.0    </td><td>0,7   </td><td>3,3       </td><td>2013-01-20 20:30:00 3564 </td><td>NO ASIGNADA</td></tr>\n",
       "<tr><td><i style='opacity: 0.6'>1</i>          </td><td>3882    </td><td>2013-01-20 20:30:00</td><td>1164.0      </td><td>4.0        </td><td>22.0   </td><td>0,7   </td><td>3,3       </td><td>2013-01-20 20:30:00 3882 </td><td>HL         </td></tr>\n",
       "<tr><td><i style='opacity: 0.6'>2</i>          </td><td>3883    </td><td>2013-01-20 20:30:00</td><td>1143.0      </td><td>4.0        </td><td>22.0   </td><td>0,7   </td><td>3,3       </td><td>2013-01-20 20:30:00 3883 </td><td>HL         </td></tr>\n",
       "<tr><td><i style='opacity: 0.6'>3</i>          </td><td>3884    </td><td>2013-01-20 20:30:00</td><td>958.0       </td><td>3.0        </td><td>18.0   </td><td>0,7   </td><td>3,3       </td><td>2013-01-20 20:30:00 3884 </td><td>HL         </td></tr>\n",
       "<tr><td><i style='opacity: 0.6'>4</i>          </td><td>3885    </td><td>2013-01-20 20:30:00</td><td>1028.0      </td><td>4.0        </td><td>20.0   </td><td>0,7   </td><td>3,3       </td><td>2013-01-20 20:30:00 3885 </td><td>HL         </td></tr>\n",
       "<tr><td>...                                    </td><td>...     </td><td>...                </td><td>...         </td><td>...        </td><td>...    </td><td>...   </td><td>...       </td><td>...                      </td><td>...        </td></tr>\n",
       "<tr><td><i style='opacity: 0.6'>563,682,229</i></td><td>11058   </td><td>2022-12-31 21:30:00</td><td>259.0       </td><td>0.0        </td><td>8.0    </td><td>0,1   </td><td>0,3       </td><td>2022-12-31 21:30:00 11058</td><td>--         </td></tr>\n",
       "<tr><td><i style='opacity: 0.6'>563,682,230</i></td><td>11058   </td><td>2022-12-31 22:00:00</td><td>125.0       </td><td>0.0        </td><td>3.0    </td><td>0,1   </td><td>0,3       </td><td>2022-12-31 22:00:00 11058</td><td>--         </td></tr>\n",
       "<tr><td><i style='opacity: 0.6'>563,682,231</i></td><td>11058   </td><td>2022-12-31 22:30:00</td><td>68.0        </td><td>0.0        </td><td>1.0    </td><td>0,1   </td><td>0,3       </td><td>2022-12-31 22:30:00 11058</td><td>--         </td></tr>\n",
       "<tr><td><i style='opacity: 0.6'>563,682,232</i></td><td>11058   </td><td>2022-12-31 23:00:00</td><td>66.0        </td><td>0.0        </td><td>1.0    </td><td>0,1   </td><td>0,3       </td><td>2022-12-31 23:00:00 11058</td><td>--         </td></tr>\n",
       "<tr><td><i style='opacity: 0.6'>563,682,233</i></td><td>11058   </td><td>2022-12-31 23:30:00</td><td>42.0        </td><td>0.0        </td><td>0.0    </td><td>0,1   </td><td>0,3       </td><td>2022-12-31 23:30:00 11058</td><td>--         </td></tr>\n",
       "</tbody>\n",
       "</table>"
      ],
      "text/plain": [
       "<IPython.core.display.HTML object>"
      ]
     },
     "metadata": {},
     "output_type": "display_data"
    }
   ],
   "source": [
    "traf_acci.info()"
   ]
  },
  {
   "cell_type": "code",
   "execution_count": 10,
   "metadata": {},
   "outputs": [],
   "source": [
    "#drop missing in lesividad column\n",
    "\n",
    "traf_acci2 = traf_acci.dropmissing(column_names=['lesividad'])"
   ]
  },
  {
   "cell_type": "code",
   "execution_count": 11,
   "metadata": {},
   "outputs": [],
   "source": [
    "#drop lesividad column\n",
    "\n",
    "traf_acci2 = traf_acci2.drop(['lesividad'])"
   ]
  },
  {
   "cell_type": "code",
   "execution_count": 12,
   "metadata": {},
   "outputs": [],
   "source": [
    "#read acci_filtered_vaex\n",
    "\n",
    "acci_filtered_vaex = vaex.open('../../acci_filtered_vaex.hdf5')"
   ]
  },
  {
   "cell_type": "code",
   "execution_count": 13,
   "metadata": {},
   "outputs": [],
   "source": [
    "# to pandas\n",
    "\n",
    "acci = acci_filtered_vaex.to_pandas_df()"
   ]
  },
  {
   "cell_type": "code",
   "execution_count": 14,
   "metadata": {},
   "outputs": [],
   "source": [
    "acci['accidente']  = 1"
   ]
  },
  {
   "cell_type": "code",
   "execution_count": 15,
   "metadata": {},
   "outputs": [],
   "source": [
    "#rename idelem to id\n",
    "\n",
    "acci.rename(columns={'idelem': 'id'}, inplace=True)"
   ]
  },
  {
   "cell_type": "code",
   "execution_count": 16,
   "metadata": {},
   "outputs": [
    {
     "name": "stdout",
     "output_type": "stream",
     "text": [
      "<class 'pandas.core.frame.DataFrame'>\n",
      "RangeIndex: 112833 entries, 0 to 112832\n",
      "Data columns (total 16 columns):\n",
      " #   Column            Non-Null Count   Dtype  \n",
      "---  ------            --------------   -----  \n",
      " 0   fecha             112833 non-null  object \n",
      " 1   station           112833 non-null  object \n",
      " 2   tmed              109458 non-null  object \n",
      " 3   prec              112082 non-null  object \n",
      " 4   velmedia          82934 non-null   object \n",
      " 5   hora              112833 non-null  object \n",
      " 6   distrito          112833 non-null  object \n",
      " 7   localizacion      112833 non-null  object \n",
      " 8   coordenada_x_utm  112833 non-null  float64\n",
      " 9   coordenada_y_utm  112833 non-null  float64\n",
      " 10  lesividad         112833 non-null  object \n",
      " 11  meteo             112833 non-null  object \n",
      " 12  latitud           112833 non-null  float64\n",
      " 13  longitud          112833 non-null  float64\n",
      " 14  id                112833 non-null  object \n",
      " 15  accidente         112833 non-null  int64  \n",
      "dtypes: float64(4), int64(1), object(11)\n",
      "memory usage: 13.8+ MB\n"
     ]
    }
   ],
   "source": [
    "acci.info()"
   ]
  },
  {
   "cell_type": "code",
   "execution_count": 17,
   "metadata": {},
   "outputs": [
    {
     "name": "stderr",
     "output_type": "stream",
     "text": [
      "C:\\Users\\calba\\AppData\\Local\\Temp\\ipykernel_8552\\1723448084.py:9: SettingWithCopyWarning: \n",
      "A value is trying to be set on a copy of a slice from a DataFrame\n",
      "\n",
      "See the caveats in the documentation: https://pandas.pydata.org/pandas-docs/stable/user_guide/indexing.html#returning-a-view-versus-a-copy\n",
      "  acci['hora'][i] = '0' + acci['hora'][i]\n"
     ]
    },
    {
     "data": {
      "text/html": [
       "<div>\n",
       "<style scoped>\n",
       "    .dataframe tbody tr th:only-of-type {\n",
       "        vertical-align: middle;\n",
       "    }\n",
       "\n",
       "    .dataframe tbody tr th {\n",
       "        vertical-align: top;\n",
       "    }\n",
       "\n",
       "    .dataframe thead th {\n",
       "        text-align: right;\n",
       "    }\n",
       "</style>\n",
       "<table border=\"1\" class=\"dataframe\">\n",
       "  <thead>\n",
       "    <tr style=\"text-align: right;\">\n",
       "      <th></th>\n",
       "      <th>fecha</th>\n",
       "      <th>hora</th>\n",
       "      <th>id</th>\n",
       "      <th>accidente</th>\n",
       "    </tr>\n",
       "  </thead>\n",
       "  <tbody>\n",
       "    <tr>\n",
       "      <th>0</th>\n",
       "      <td>2013-01-01</td>\n",
       "      <td>19:00</td>\n",
       "      <td>6404</td>\n",
       "      <td>1</td>\n",
       "    </tr>\n",
       "    <tr>\n",
       "      <th>1</th>\n",
       "      <td>2013-01-01</td>\n",
       "      <td>00:00</td>\n",
       "      <td>4608</td>\n",
       "      <td>1</td>\n",
       "    </tr>\n",
       "    <tr>\n",
       "      <th>2</th>\n",
       "      <td>2013-01-01</td>\n",
       "      <td>00:00</td>\n",
       "      <td>4579</td>\n",
       "      <td>1</td>\n",
       "    </tr>\n",
       "    <tr>\n",
       "      <th>3</th>\n",
       "      <td>2013-01-01</td>\n",
       "      <td>13:00</td>\n",
       "      <td>4516</td>\n",
       "      <td>1</td>\n",
       "    </tr>\n",
       "    <tr>\n",
       "      <th>4</th>\n",
       "      <td>2013-01-01</td>\n",
       "      <td>17:00</td>\n",
       "      <td>5632</td>\n",
       "      <td>1</td>\n",
       "    </tr>\n",
       "    <tr>\n",
       "      <th>...</th>\n",
       "      <td>...</td>\n",
       "      <td>...</td>\n",
       "      <td>...</td>\n",
       "      <td>...</td>\n",
       "    </tr>\n",
       "    <tr>\n",
       "      <th>112828</th>\n",
       "      <td>2022-12-31</td>\n",
       "      <td>05:00</td>\n",
       "      <td>10554</td>\n",
       "      <td>1</td>\n",
       "    </tr>\n",
       "    <tr>\n",
       "      <th>112829</th>\n",
       "      <td>2022-12-31</td>\n",
       "      <td>06:00</td>\n",
       "      <td>6947</td>\n",
       "      <td>1</td>\n",
       "    </tr>\n",
       "    <tr>\n",
       "      <th>112830</th>\n",
       "      <td>2022-12-31</td>\n",
       "      <td>06:00</td>\n",
       "      <td>4006</td>\n",
       "      <td>1</td>\n",
       "    </tr>\n",
       "    <tr>\n",
       "      <th>112831</th>\n",
       "      <td>2022-12-31</td>\n",
       "      <td>06:30</td>\n",
       "      <td>10785</td>\n",
       "      <td>1</td>\n",
       "    </tr>\n",
       "    <tr>\n",
       "      <th>112832</th>\n",
       "      <td>2022-12-31</td>\n",
       "      <td>08:30</td>\n",
       "      <td>6212</td>\n",
       "      <td>1</td>\n",
       "    </tr>\n",
       "  </tbody>\n",
       "</table>\n",
       "<p>112833 rows × 4 columns</p>\n",
       "</div>"
      ],
      "text/plain": [
       "             fecha   hora     id  accidente\n",
       "0       2013-01-01  19:00   6404          1\n",
       "1       2013-01-01  00:00   4608          1\n",
       "2       2013-01-01  00:00   4579          1\n",
       "3       2013-01-01  13:00   4516          1\n",
       "4       2013-01-01  17:00   5632          1\n",
       "...            ...    ...    ...        ...\n",
       "112828  2022-12-31  05:00  10554          1\n",
       "112829  2022-12-31  06:00   6947          1\n",
       "112830  2022-12-31  06:00   4006          1\n",
       "112831  2022-12-31  06:30  10785          1\n",
       "112832  2022-12-31  08:30   6212          1\n",
       "\n",
       "[112833 rows x 4 columns]"
      ]
     },
     "execution_count": 17,
     "metadata": {},
     "output_type": "execute_result"
    }
   ],
   "source": [
    "#filter accis by id equal to diff\n",
    "\n",
    "acci = acci[['fecha', 'hora', 'id', 'accidente']]\n",
    "\n",
    "#add 0 to the left of hora if length is 4\n",
    "\n",
    "for i in range(len(acci)):\n",
    "    if len(acci['hora'][i]) == 4:\n",
    "        acci['hora'][i] = '0' + acci['hora'][i]\n",
    "\n",
    "acci"
   ]
  },
  {
   "cell_type": "code",
   "execution_count": 18,
   "metadata": {},
   "outputs": [
    {
     "data": {
      "text/html": [
       "<table>\n",
       "<thead>\n",
       "<tr><th>#                                  </th><th>unir                     </th><th>accidente  </th></tr>\n",
       "</thead>\n",
       "<tbody>\n",
       "<tr><td><i style='opacity: 0.6'>0</i>      </td><td>2014-11-11 14:30:00 3463 </td><td>1          </td></tr>\n",
       "<tr><td><i style='opacity: 0.6'>1</i>      </td><td>2014-11-12 16:30:00 10635</td><td>1          </td></tr>\n",
       "<tr><td><i style='opacity: 0.6'>2</i>      </td><td>2014-11-12 12:00:00 6019 </td><td>1          </td></tr>\n",
       "<tr><td><i style='opacity: 0.6'>3</i>      </td><td>2014-11-13 20:00:00 3931 </td><td>1          </td></tr>\n",
       "<tr><td><i style='opacity: 0.6'>4</i>      </td><td>2014-11-14 13:30:00 4219 </td><td>1          </td></tr>\n",
       "<tr><td>...                                </td><td>...                      </td><td>...        </td></tr>\n",
       "<tr><td><i style='opacity: 0.6'>109,476</i></td><td>2021-12-23 17:30:00 6747 </td><td>1          </td></tr>\n",
       "<tr><td><i style='opacity: 0.6'>109,477</i></td><td>2021-12-23 22:30:00 5827 </td><td>1          </td></tr>\n",
       "<tr><td><i style='opacity: 0.6'>109,478</i></td><td>2021-12-24 10:00:00 3695 </td><td>1          </td></tr>\n",
       "<tr><td><i style='opacity: 0.6'>109,479</i></td><td>2021-12-25 10:00:00 4080 </td><td>1          </td></tr>\n",
       "<tr><td><i style='opacity: 0.6'>109,480</i></td><td>2021-12-31 16:00:00 6670 </td><td>1          </td></tr>\n",
       "</tbody>\n",
       "</table>"
      ],
      "text/plain": [
       "#        unir                       accidente\n",
       "0        2014-11-11 14:30:00 3463   1\n",
       "1        2014-11-12 16:30:00 10635  1\n",
       "2        2014-11-12 12:00:00 6019   1\n",
       "3        2014-11-13 20:00:00 3931   1\n",
       "4        2014-11-14 13:30:00 4219   1\n",
       "...      ...                        ...\n",
       "109,476  2021-12-23 17:30:00 6747   1\n",
       "109,477  2021-12-23 22:30:00 5827   1\n",
       "109,478  2021-12-24 10:00:00 3695   1\n",
       "109,479  2021-12-25 10:00:00 4080   1\n",
       "109,480  2021-12-31 16:00:00 6670   1"
      ]
     },
     "execution_count": 18,
     "metadata": {},
     "output_type": "execute_result"
    }
   ],
   "source": [
    "#acci to vaex\n",
    "\n",
    "acci_vaex = vaex.from_pandas(acci)\n",
    "\n",
    "acci_vaex['unir'] = acci_vaex['fecha'] + ' ' + acci_vaex['hora'] + ':00' + ' ' + acci_vaex['id']\n",
    "acci_vaex = acci_vaex.drop(['fecha','hora','id'])\n",
    "\n",
    "#group by unir and sum\n",
    "\n",
    "acci_vaex = acci_vaex.groupby('unir', agg={'accidente':'sum'})\n",
    "\n",
    "acci_vaex"
   ]
  },
  {
   "cell_type": "code",
   "execution_count": 19,
   "metadata": {},
   "outputs": [
    {
     "data": {
      "text/plain": [
       "1    106146\n",
       "2      3325\n",
       "4         7\n",
       "3         3\n",
       "dtype: int64"
      ]
     },
     "execution_count": 19,
     "metadata": {},
     "output_type": "execute_result"
    }
   ],
   "source": [
    "acci_vaex.accidente.value_counts()"
   ]
  },
  {
   "cell_type": "code",
   "execution_count": 20,
   "metadata": {},
   "outputs": [],
   "source": [
    "#join traf_acci2 with acci_vaex\n",
    "\n",
    "traf_acci3 = traf_acci2.join(acci_vaex, on='unir', how='left')"
   ]
  },
  {
   "cell_type": "code",
   "execution_count": 21,
   "metadata": {},
   "outputs": [
    {
     "data": {
      "text/html": [
       "<table>\n",
       "<thead>\n",
       "<tr><th>#                                      </th><th>idelem  </th><th>fecha_full         </th><th>intensidad  </th><th>ocupacion  </th><th>carga  </th><th>prec  </th><th>velmedia  </th><th>unir                     </th><th>accidente  </th></tr>\n",
       "</thead>\n",
       "<tbody>\n",
       "<tr><td><i style='opacity: 0.6'>0</i>          </td><td>3564    </td><td>2013-01-20 20:30:00</td><td>8.0         </td><td>0.0        </td><td>1.0    </td><td>0,7   </td><td>3,3       </td><td>2013-01-20 20:30:00 3564 </td><td>--         </td></tr>\n",
       "<tr><td><i style='opacity: 0.6'>1</i>          </td><td>3882    </td><td>2013-01-20 20:30:00</td><td>1164.0      </td><td>4.0        </td><td>22.0   </td><td>0,7   </td><td>3,3       </td><td>2013-01-20 20:30:00 3882 </td><td>--         </td></tr>\n",
       "<tr><td><i style='opacity: 0.6'>2</i>          </td><td>3883    </td><td>2013-01-20 20:30:00</td><td>1143.0      </td><td>4.0        </td><td>22.0   </td><td>0,7   </td><td>3,3       </td><td>2013-01-20 20:30:00 3883 </td><td>--         </td></tr>\n",
       "<tr><td><i style='opacity: 0.6'>3</i>          </td><td>3884    </td><td>2013-01-20 20:30:00</td><td>958.0       </td><td>3.0        </td><td>18.0   </td><td>0,7   </td><td>3,3       </td><td>2013-01-20 20:30:00 3884 </td><td>--         </td></tr>\n",
       "<tr><td><i style='opacity: 0.6'>4</i>          </td><td>3885    </td><td>2013-01-20 20:30:00</td><td>1028.0      </td><td>4.0        </td><td>20.0   </td><td>0,7   </td><td>3,3       </td><td>2013-01-20 20:30:00 3885 </td><td>--         </td></tr>\n",
       "<tr><td>...                                    </td><td>...     </td><td>...                </td><td>...         </td><td>...        </td><td>...    </td><td>...   </td><td>...       </td><td>...                      </td><td>...        </td></tr>\n",
       "<tr><td><i style='opacity: 0.6'>526,371,788</i></td><td>11057   </td><td>2022-12-31 21:00:00</td><td>227.0       </td><td>1.0        </td><td>5.0    </td><td>0,1   </td><td>0,3       </td><td>2022-12-31 21:00:00 11057</td><td>--         </td></tr>\n",
       "<tr><td><i style='opacity: 0.6'>526,371,789</i></td><td>11057   </td><td>2022-12-31 21:30:00</td><td>188.0       </td><td>1.0        </td><td>5.0    </td><td>0,1   </td><td>0,3       </td><td>2022-12-31 21:30:00 11057</td><td>--         </td></tr>\n",
       "<tr><td><i style='opacity: 0.6'>526,371,790</i></td><td>11057   </td><td>2022-12-31 22:00:00</td><td>96.0        </td><td>0.0        </td><td>2.0    </td><td>0,1   </td><td>0,3       </td><td>2022-12-31 22:00:00 11057</td><td>--         </td></tr>\n",
       "<tr><td><i style='opacity: 0.6'>526,371,791</i></td><td>11057   </td><td>2022-12-31 23:00:00</td><td>53.0        </td><td>0.0        </td><td>0.0    </td><td>0,1   </td><td>0,3       </td><td>2022-12-31 23:00:00 11057</td><td>--         </td></tr>\n",
       "<tr><td><i style='opacity: 0.6'>526,371,792</i></td><td>11057   </td><td>2022-12-31 23:30:00</td><td>44.0        </td><td>0.0        </td><td>0.0    </td><td>0,1   </td><td>0,3       </td><td>2022-12-31 23:30:00 11057</td><td>--         </td></tr>\n",
       "</tbody>\n",
       "</table>"
      ],
      "text/plain": [
       "#            idelem    fecha_full           intensidad    ocupacion    carga    prec    velmedia    unir                       accidente\n",
       "0            3564      2013-01-20 20:30:00  8.0           0.0          1.0      0,7     3,3         2013-01-20 20:30:00 3564   --\n",
       "1            3882      2013-01-20 20:30:00  1164.0        4.0          22.0     0,7     3,3         2013-01-20 20:30:00 3882   --\n",
       "2            3883      2013-01-20 20:30:00  1143.0        4.0          22.0     0,7     3,3         2013-01-20 20:30:00 3883   --\n",
       "3            3884      2013-01-20 20:30:00  958.0         3.0          18.0     0,7     3,3         2013-01-20 20:30:00 3884   --\n",
       "4            3885      2013-01-20 20:30:00  1028.0        4.0          20.0     0,7     3,3         2013-01-20 20:30:00 3885   --\n",
       "...          ...       ...                  ...           ...          ...      ...     ...         ...                        ...\n",
       "526,371,788  11057     2022-12-31 21:00:00  227.0         1.0          5.0      0,1     0,3         2022-12-31 21:00:00 11057  --\n",
       "526,371,789  11057     2022-12-31 21:30:00  188.0         1.0          5.0      0,1     0,3         2022-12-31 21:30:00 11057  --\n",
       "526,371,790  11057     2022-12-31 22:00:00  96.0          0.0          2.0      0,1     0,3         2022-12-31 22:00:00 11057  --\n",
       "526,371,791  11057     2022-12-31 23:00:00  53.0          0.0          0.0      0,1     0,3         2022-12-31 23:00:00 11057  --\n",
       "526,371,792  11057     2022-12-31 23:30:00  44.0          0.0          0.0      0,1     0,3         2022-12-31 23:30:00 11057  --"
      ]
     },
     "execution_count": 21,
     "metadata": {},
     "output_type": "execute_result"
    }
   ],
   "source": [
    "traf_acci3"
   ]
  },
  {
   "cell_type": "code",
   "execution_count": 22,
   "metadata": {},
   "outputs": [
    {
     "data": {
      "text/plain": [
       "missing    526289366\n",
       "1              79912\n",
       "2               2506\n",
       "4                  6\n",
       "3                  3\n",
       "dtype: int64"
      ]
     },
     "execution_count": 22,
     "metadata": {},
     "output_type": "execute_result"
    }
   ],
   "source": [
    "traf_acci3.accidente.value_counts()"
   ]
  },
  {
   "cell_type": "code",
   "execution_count": 23,
   "metadata": {},
   "outputs": [],
   "source": [
    "traf_acci3 = traf_acci3.drop(['unir'])"
   ]
  },
  {
   "cell_type": "code",
   "execution_count": 24,
   "metadata": {},
   "outputs": [
    {
     "data": {
      "text/html": [
       "<style>.vaex-description pre {\n",
       "          max-width : 450px;\n",
       "          white-space : nowrap;\n",
       "          overflow : hidden;\n",
       "          text-overflow: ellipsis;\n",
       "        }\n",
       "\n",
       "        .vex-description pre:hover {\n",
       "          max-width : initial;\n",
       "          white-space: pre;\n",
       "        }</style>"
      ],
      "text/plain": [
       "<IPython.core.display.HTML object>"
      ]
     },
     "metadata": {},
     "output_type": "display_data"
    },
    {
     "data": {
      "text/html": [
       "<div><h2>no-name</h2> <b>rows</b>: 526,371,793</div><h2>Columns:</h2><table class='table-striped'><thead><tr><th>column</th><th>type</th><th>unit</th><th>description</th><th>expression</th></tr></thead><tr><td>idelem</td><td>str</td><td></td><td ><pre></pre></td><td></td></tr><tr><td>fecha_full</td><td>str</td><td></td><td ><pre></pre></td><td></td></tr><tr><td>intensidad</td><td>float64</td><td></td><td ><pre></pre></td><td></td></tr><tr><td>ocupacion</td><td>float64</td><td></td><td ><pre></pre></td><td></td></tr><tr><td>carga</td><td>float64</td><td></td><td ><pre></pre></td><td></td></tr><tr><td>prec</td><td>str</td><td></td><td ><pre></pre></td><td></td></tr><tr><td>velmedia</td><td>str</td><td></td><td ><pre></pre></td><td></td></tr><tr><td>accidente</td><td>int64</td><td></td><td ><pre></pre></td><td></td></tr></table><h2>Data:</h2><table>\n",
       "<thead>\n",
       "<tr><th>#                                      </th><th>idelem  </th><th>fecha_full         </th><th>intensidad  </th><th>ocupacion  </th><th>carga  </th><th>prec  </th><th>velmedia  </th><th>accidente  </th></tr>\n",
       "</thead>\n",
       "<tbody>\n",
       "<tr><td><i style='opacity: 0.6'>0</i>          </td><td>3564    </td><td>2013-01-20 20:30:00</td><td>8.0         </td><td>0.0        </td><td>1.0    </td><td>0,7   </td><td>3,3       </td><td>--         </td></tr>\n",
       "<tr><td><i style='opacity: 0.6'>1</i>          </td><td>3882    </td><td>2013-01-20 20:30:00</td><td>1164.0      </td><td>4.0        </td><td>22.0   </td><td>0,7   </td><td>3,3       </td><td>--         </td></tr>\n",
       "<tr><td><i style='opacity: 0.6'>2</i>          </td><td>3883    </td><td>2013-01-20 20:30:00</td><td>1143.0      </td><td>4.0        </td><td>22.0   </td><td>0,7   </td><td>3,3       </td><td>--         </td></tr>\n",
       "<tr><td><i style='opacity: 0.6'>3</i>          </td><td>3884    </td><td>2013-01-20 20:30:00</td><td>958.0       </td><td>3.0        </td><td>18.0   </td><td>0,7   </td><td>3,3       </td><td>--         </td></tr>\n",
       "<tr><td><i style='opacity: 0.6'>4</i>          </td><td>3885    </td><td>2013-01-20 20:30:00</td><td>1028.0      </td><td>4.0        </td><td>20.0   </td><td>0,7   </td><td>3,3       </td><td>--         </td></tr>\n",
       "<tr><td>...                                    </td><td>...     </td><td>...                </td><td>...         </td><td>...        </td><td>...    </td><td>...   </td><td>...       </td><td>...        </td></tr>\n",
       "<tr><td><i style='opacity: 0.6'>526,371,788</i></td><td>11057   </td><td>2022-12-31 21:00:00</td><td>227.0       </td><td>1.0        </td><td>5.0    </td><td>0,1   </td><td>0,3       </td><td>--         </td></tr>\n",
       "<tr><td><i style='opacity: 0.6'>526,371,789</i></td><td>11057   </td><td>2022-12-31 21:30:00</td><td>188.0       </td><td>1.0        </td><td>5.0    </td><td>0,1   </td><td>0,3       </td><td>--         </td></tr>\n",
       "<tr><td><i style='opacity: 0.6'>526,371,790</i></td><td>11057   </td><td>2022-12-31 22:00:00</td><td>96.0        </td><td>0.0        </td><td>2.0    </td><td>0,1   </td><td>0,3       </td><td>--         </td></tr>\n",
       "<tr><td><i style='opacity: 0.6'>526,371,791</i></td><td>11057   </td><td>2022-12-31 23:00:00</td><td>53.0        </td><td>0.0        </td><td>0.0    </td><td>0,1   </td><td>0,3       </td><td>--         </td></tr>\n",
       "<tr><td><i style='opacity: 0.6'>526,371,792</i></td><td>11057   </td><td>2022-12-31 23:30:00</td><td>44.0        </td><td>0.0        </td><td>0.0    </td><td>0,1   </td><td>0,3       </td><td>--         </td></tr>\n",
       "</tbody>\n",
       "</table>"
      ],
      "text/plain": [
       "<IPython.core.display.HTML object>"
      ]
     },
     "metadata": {},
     "output_type": "display_data"
    }
   ],
   "source": [
    "traf_acci3.info()"
   ]
  },
  {
   "cell_type": "code",
   "execution_count": 28,
   "metadata": {},
   "outputs": [],
   "source": [
    "traf_acci4 = traf_acci3.drop(['velmedia'])"
   ]
  },
  {
   "cell_type": "code",
   "execution_count": 29,
   "metadata": {},
   "outputs": [
    {
     "data": {
      "text/html": [
       "<table>\n",
       "<thead>\n",
       "<tr><th>#                                      </th><th>idelem  </th><th>fecha_full         </th><th>intensidad  </th><th>ocupacion  </th><th>carga  </th><th>prec  </th><th>accidente  </th></tr>\n",
       "</thead>\n",
       "<tbody>\n",
       "<tr><td><i style='opacity: 0.6'>0</i>          </td><td>3564    </td><td>2013-01-20 20:30:00</td><td>8.0         </td><td>0.0        </td><td>1.0    </td><td>0,7   </td><td>--         </td></tr>\n",
       "<tr><td><i style='opacity: 0.6'>1</i>          </td><td>3882    </td><td>2013-01-20 20:30:00</td><td>1164.0      </td><td>4.0        </td><td>22.0   </td><td>0,7   </td><td>--         </td></tr>\n",
       "<tr><td><i style='opacity: 0.6'>2</i>          </td><td>3883    </td><td>2013-01-20 20:30:00</td><td>1143.0      </td><td>4.0        </td><td>22.0   </td><td>0,7   </td><td>--         </td></tr>\n",
       "<tr><td><i style='opacity: 0.6'>3</i>          </td><td>3884    </td><td>2013-01-20 20:30:00</td><td>958.0       </td><td>3.0        </td><td>18.0   </td><td>0,7   </td><td>--         </td></tr>\n",
       "<tr><td><i style='opacity: 0.6'>4</i>          </td><td>3885    </td><td>2013-01-20 20:30:00</td><td>1028.0      </td><td>4.0        </td><td>20.0   </td><td>0,7   </td><td>--         </td></tr>\n",
       "<tr><td>...                                    </td><td>...     </td><td>...                </td><td>...         </td><td>...        </td><td>...    </td><td>...   </td><td>...        </td></tr>\n",
       "<tr><td><i style='opacity: 0.6'>526,371,788</i></td><td>11057   </td><td>2022-12-31 21:00:00</td><td>227.0       </td><td>1.0        </td><td>5.0    </td><td>0,1   </td><td>--         </td></tr>\n",
       "<tr><td><i style='opacity: 0.6'>526,371,789</i></td><td>11057   </td><td>2022-12-31 21:30:00</td><td>188.0       </td><td>1.0        </td><td>5.0    </td><td>0,1   </td><td>--         </td></tr>\n",
       "<tr><td><i style='opacity: 0.6'>526,371,790</i></td><td>11057   </td><td>2022-12-31 22:00:00</td><td>96.0        </td><td>0.0        </td><td>2.0    </td><td>0,1   </td><td>--         </td></tr>\n",
       "<tr><td><i style='opacity: 0.6'>526,371,791</i></td><td>11057   </td><td>2022-12-31 23:00:00</td><td>53.0        </td><td>0.0        </td><td>0.0    </td><td>0,1   </td><td>--         </td></tr>\n",
       "<tr><td><i style='opacity: 0.6'>526,371,792</i></td><td>11057   </td><td>2022-12-31 23:30:00</td><td>44.0        </td><td>0.0        </td><td>0.0    </td><td>0,1   </td><td>--         </td></tr>\n",
       "</tbody>\n",
       "</table>"
      ],
      "text/plain": [
       "#            idelem    fecha_full           intensidad    ocupacion    carga    prec    accidente\n",
       "0            3564      2013-01-20 20:30:00  8.0           0.0          1.0      0,7     --\n",
       "1            3882      2013-01-20 20:30:00  1164.0        4.0          22.0     0,7     --\n",
       "2            3883      2013-01-20 20:30:00  1143.0        4.0          22.0     0,7     --\n",
       "3            3884      2013-01-20 20:30:00  958.0         3.0          18.0     0,7     --\n",
       "4            3885      2013-01-20 20:30:00  1028.0        4.0          20.0     0,7     --\n",
       "...          ...       ...                  ...           ...          ...      ...     ...\n",
       "526,371,788  11057     2022-12-31 21:00:00  227.0         1.0          5.0      0,1     --\n",
       "526,371,789  11057     2022-12-31 21:30:00  188.0         1.0          5.0      0,1     --\n",
       "526,371,790  11057     2022-12-31 22:00:00  96.0          0.0          2.0      0,1     --\n",
       "526,371,791  11057     2022-12-31 23:00:00  53.0          0.0          0.0      0,1     --\n",
       "526,371,792  11057     2022-12-31 23:30:00  44.0          0.0          0.0      0,1     --"
      ]
     },
     "execution_count": 29,
     "metadata": {},
     "output_type": "execute_result"
    }
   ],
   "source": [
    "traf_acci4"
   ]
  },
  {
   "cell_type": "code",
   "execution_count": 25,
   "metadata": {},
   "outputs": [],
   "source": [
    "#fill missing values in accidente column with 0\n",
    "\n",
    "#traf_acci3['accidente'] = traf_acci3['accidente'].fillmissing(0)\n"
   ]
  },
  {
   "cell_type": "code",
   "execution_count": 30,
   "metadata": {},
   "outputs": [],
   "source": [
    "#split the df in 2\n",
    "\n",
    "traf_acci4_1 = traf_acci4[:300000000]\n",
    "\n",
    "traf_acci4_2 = traf_acci4[300000000:]\n",
    "\n"
   ]
  },
  {
   "cell_type": "code",
   "execution_count": 33,
   "metadata": {},
   "outputs": [],
   "source": [
    "traf_acci4_1"
   ]
  },
  {
   "cell_type": "markdown",
   "metadata": {},
   "source": []
  },
  {
   "cell_type": "code",
   "execution_count": 32,
   "metadata": {},
   "outputs": [
    {
     "name": "stdout",
     "output_type": "stream",
     "text": [
      "export(hdf5) [----------------------------------------]  0.00% estimated time: unknown                 "
     ]
    },
    {
     "ename": "KeyboardInterrupt",
     "evalue": "",
     "output_type": "error",
     "traceback": [
      "\u001b[1;31m---------------------------------------------------------------------------\u001b[0m",
      "\u001b[1;31mKeyboardInterrupt\u001b[0m                         Traceback (most recent call last)",
      "Cell \u001b[1;32mIn[32], line 3\u001b[0m\n\u001b[0;32m      1\u001b[0m \u001b[39m#save both dfs\u001b[39;00m\n\u001b[1;32m----> 3\u001b[0m traf_acci4_1\u001b[39m.\u001b[39;49mexport_hdf5(\u001b[39m'\u001b[39;49m\u001b[39m../../traf_acci4_1.hdf5\u001b[39;49m\u001b[39m'\u001b[39;49m, progress\u001b[39m=\u001b[39;49m\u001b[39mTrue\u001b[39;49;00m)\n",
      "File \u001b[1;32mc:\\Users\\calba\\anaconda3\\lib\\site-packages\\vaex\\dataframe.py:6949\u001b[0m, in \u001b[0;36mDataFrameLocal.export_hdf5\u001b[1;34m(self, path, byteorder, progress, chunk_size, parallel, column_count, writer_threads, group, mode)\u001b[0m\n\u001b[0;32m   6947\u001b[0m progressbar_write \u001b[39m=\u001b[39m progressbar\u001b[39m.\u001b[39madd(\u001b[39m\"\u001b[39m\u001b[39mwrite data\u001b[39m\u001b[39m\"\u001b[39m)\n\u001b[0;32m   6948\u001b[0m \u001b[39mwith\u001b[39;00m Writer(path\u001b[39m=\u001b[39mpath, group\u001b[39m=\u001b[39mgroup, mode\u001b[39m=\u001b[39mmode, byteorder\u001b[39m=\u001b[39mbyteorder) \u001b[39mas\u001b[39;00m writer:\n\u001b[1;32m-> 6949\u001b[0m     writer\u001b[39m.\u001b[39;49mlayout(\u001b[39mself\u001b[39;49m, progress\u001b[39m=\u001b[39;49mprogressbar_layout)\n\u001b[0;32m   6950\u001b[0m     writer\u001b[39m.\u001b[39mwrite(\n\u001b[0;32m   6951\u001b[0m         \u001b[39mself\u001b[39m,\n\u001b[0;32m   6952\u001b[0m         chunk_size\u001b[39m=\u001b[39mchunk_size,\n\u001b[1;32m   (...)\u001b[0m\n\u001b[0;32m   6955\u001b[0m         parallel\u001b[39m=\u001b[39mparallel,\n\u001b[0;32m   6956\u001b[0m         export_threads\u001b[39m=\u001b[39mwriter_threads)\n",
      "File \u001b[1;32mc:\\Users\\calba\\anaconda3\\lib\\site-packages\\vaex\\hdf5\\writer.py:66\u001b[0m, in \u001b[0;36mWriter.layout\u001b[1;34m(self, df, progress)\u001b[0m\n\u001b[0;32m     64\u001b[0m \u001b[39m# arrow types can contain nulls even when they don't have a mask\u001b[39;00m\n\u001b[0;32m     65\u001b[0m arrow_null_count \u001b[39m=\u001b[39m {name: df\u001b[39m.\u001b[39mcount(df[name], delay\u001b[39m=\u001b[39m\u001b[39mTrue\u001b[39;00m, progress\u001b[39m=\u001b[39mprogressbar_count) \u001b[39mfor\u001b[39;00m name, dtype \u001b[39min\u001b[39;00m dtypes\u001b[39m.\u001b[39mitems() \u001b[39mif\u001b[39;00m dtype\u001b[39m.\u001b[39mis_arrow \u001b[39mor\u001b[39;00m dtype\u001b[39m.\u001b[39mis_string}\n\u001b[1;32m---> 66\u001b[0m df\u001b[39m.\u001b[39;49mexecute()\n\u001b[0;32m     67\u001b[0m progressbar_count(\u001b[39m1\u001b[39m)\n\u001b[0;32m     68\u001b[0m progressbar_strings(\u001b[39m1\u001b[39m)\n",
      "File \u001b[1;32mc:\\Users\\calba\\anaconda3\\lib\\site-packages\\vaex\\dataframe.py:421\u001b[0m, in \u001b[0;36mDataFrame.execute\u001b[1;34m(self)\u001b[0m\n\u001b[0;32m    419\u001b[0m         \u001b[39mprint\u001b[39m(\u001b[39mrepr\u001b[39m(task))\n\u001b[0;32m    420\u001b[0m \u001b[39mif\u001b[39;00m \u001b[39mself\u001b[39m\u001b[39m.\u001b[39mexecutor\u001b[39m.\u001b[39mtasks:\n\u001b[1;32m--> 421\u001b[0m     \u001b[39mself\u001b[39;49m\u001b[39m.\u001b[39;49mexecutor\u001b[39m.\u001b[39;49mexecute()\n",
      "File \u001b[1;32mc:\\Users\\calba\\anaconda3\\lib\\site-packages\\vaex\\execution.py:308\u001b[0m, in \u001b[0;36mExecutorLocal.execute\u001b[1;34m(self)\u001b[0m\n\u001b[0;32m    307\u001b[0m \u001b[39mdef\u001b[39;00m \u001b[39mexecute\u001b[39m(\u001b[39mself\u001b[39m):\n\u001b[1;32m--> 308\u001b[0m     \u001b[39mfor\u001b[39;00m _ \u001b[39min\u001b[39;00m \u001b[39mself\u001b[39m\u001b[39m.\u001b[39mexecute_generator():\n\u001b[0;32m    309\u001b[0m         \u001b[39mpass\u001b[39;00m\n",
      "File \u001b[1;32mc:\\Users\\calba\\anaconda3\\lib\\site-packages\\vaex\\execution.py:432\u001b[0m, in \u001b[0;36mExecutorLocal.execute_generator\u001b[1;34m(self, use_async)\u001b[0m\n\u001b[0;32m    430\u001b[0m         logger\u001b[39m.\u001b[39mdebug(\u001b[39m\"\u001b[39m\u001b[39mPass cancelled because of the global progress event: \u001b[39m\u001b[39m%r\u001b[39;00m\u001b[39m\"\u001b[39m, \u001b[39mself\u001b[39m\u001b[39m.\u001b[39msignal_progress\u001b[39m.\u001b[39mcallbacks)\n\u001b[0;32m    431\u001b[0m     \u001b[39mreturn\u001b[39;00m ok_tasks \u001b[39mand\u001b[39;00m ok_executor \u001b[39mand\u001b[39;00m \u001b[39mnot\u001b[39;00m all_stopped\n\u001b[1;32m--> 432\u001b[0m \u001b[39myield from\u001b[39;00m \u001b[39mself\u001b[39m\u001b[39m.\u001b[39mthread_pool\u001b[39m.\u001b[39mmap(\u001b[39mself\u001b[39m\u001b[39m.\u001b[39mprocess_part, dataset\u001b[39m.\u001b[39mchunk_iterator(run\u001b[39m.\u001b[39mdataset_deps, chunk_size),\n\u001b[0;32m    433\u001b[0m                                     dataset\u001b[39m.\u001b[39mrow_count,\n\u001b[0;32m    434\u001b[0m                                     progress\u001b[39m=\u001b[39mprogress,\n\u001b[0;32m    435\u001b[0m                                     cancel\u001b[39m=\u001b[39m\u001b[39mlambda\u001b[39;00m: \u001b[39mself\u001b[39m\u001b[39m.\u001b[39m_cancel(run), unpack\u001b[39m=\u001b[39m\u001b[39mTrue\u001b[39;00m, run\u001b[39m=\u001b[39mrun, use_async\u001b[39m=\u001b[39muse_async)\n\u001b[0;32m    436\u001b[0m duration_wallclock \u001b[39m=\u001b[39m time\u001b[39m.\u001b[39mtime() \u001b[39m-\u001b[39m t0\n\u001b[0;32m    437\u001b[0m logger\u001b[39m.\u001b[39mdebug(\u001b[39m\"\u001b[39m\u001b[39mexecuting took \u001b[39m\u001b[39m%r\u001b[39;00m\u001b[39m seconds\u001b[39m\u001b[39m\"\u001b[39m, duration_wallclock)\n",
      "File \u001b[1;32mc:\\Users\\calba\\anaconda3\\lib\\site-packages\\vaex\\multithreading.py:100\u001b[0m, in \u001b[0;36mThreadPoolIndex.map\u001b[1;34m(self, callable, iterator, count, on_error, progress, cancel, unpack, use_async, **kwargs_extra)\u001b[0m\n\u001b[0;32m     98\u001b[0m         iterator \u001b[39m=\u001b[39m (loop\u001b[39m.\u001b[39mrun_in_executor(\u001b[39mself\u001b[39m, \u001b[39mlambda\u001b[39;00m value\u001b[39m=\u001b[39mvalue: wrapped(value)) \u001b[39mfor\u001b[39;00m value \u001b[39min\u001b[39;00m cancellable_iter())\n\u001b[0;32m     99\u001b[0m     \u001b[39melse\u001b[39;00m:\n\u001b[1;32m--> 100\u001b[0m         iterator \u001b[39m=\u001b[39m \u001b[39msuper\u001b[39;49m(ThreadPoolIndex, \u001b[39mself\u001b[39;49m)\u001b[39m.\u001b[39;49mmap(wrapped, cancellable_iter())\n\u001b[0;32m    101\u001b[0m total \u001b[39m=\u001b[39m \u001b[39m0\u001b[39m\n\u001b[0;32m    102\u001b[0m iterator \u001b[39m=\u001b[39m \u001b[39miter\u001b[39m(buffer(iterator, \u001b[39mself\u001b[39m\u001b[39m.\u001b[39m_max_workers \u001b[39m+\u001b[39m \u001b[39m3\u001b[39m))\n",
      "File \u001b[1;32mc:\\Users\\calba\\anaconda3\\lib\\concurrent\\futures\\_base.py:598\u001b[0m, in \u001b[0;36mExecutor.map\u001b[1;34m(self, fn, timeout, chunksize, *iterables)\u001b[0m\n\u001b[0;32m    595\u001b[0m \u001b[39mif\u001b[39;00m timeout \u001b[39mis\u001b[39;00m \u001b[39mnot\u001b[39;00m \u001b[39mNone\u001b[39;00m:\n\u001b[0;32m    596\u001b[0m     end_time \u001b[39m=\u001b[39m timeout \u001b[39m+\u001b[39m time\u001b[39m.\u001b[39mmonotonic()\n\u001b[1;32m--> 598\u001b[0m fs \u001b[39m=\u001b[39m [\u001b[39mself\u001b[39m\u001b[39m.\u001b[39msubmit(fn, \u001b[39m*\u001b[39margs) \u001b[39mfor\u001b[39;00m args \u001b[39min\u001b[39;00m \u001b[39mzip\u001b[39m(\u001b[39m*\u001b[39miterables)]\n\u001b[0;32m    600\u001b[0m \u001b[39m# Yield must be hidden in closure so that the futures are submitted\u001b[39;00m\n\u001b[0;32m    601\u001b[0m \u001b[39m# before the first iterator value is required.\u001b[39;00m\n\u001b[0;32m    602\u001b[0m \u001b[39mdef\u001b[39;00m \u001b[39mresult_iterator\u001b[39m():\n",
      "File \u001b[1;32mc:\\Users\\calba\\anaconda3\\lib\\concurrent\\futures\\_base.py:598\u001b[0m, in \u001b[0;36m<listcomp>\u001b[1;34m(.0)\u001b[0m\n\u001b[0;32m    595\u001b[0m \u001b[39mif\u001b[39;00m timeout \u001b[39mis\u001b[39;00m \u001b[39mnot\u001b[39;00m \u001b[39mNone\u001b[39;00m:\n\u001b[0;32m    596\u001b[0m     end_time \u001b[39m=\u001b[39m timeout \u001b[39m+\u001b[39m time\u001b[39m.\u001b[39mmonotonic()\n\u001b[1;32m--> 598\u001b[0m fs \u001b[39m=\u001b[39m [\u001b[39mself\u001b[39m\u001b[39m.\u001b[39msubmit(fn, \u001b[39m*\u001b[39margs) \u001b[39mfor\u001b[39;00m args \u001b[39min\u001b[39;00m \u001b[39mzip\u001b[39m(\u001b[39m*\u001b[39miterables)]\n\u001b[0;32m    600\u001b[0m \u001b[39m# Yield must be hidden in closure so that the futures are submitted\u001b[39;00m\n\u001b[0;32m    601\u001b[0m \u001b[39m# before the first iterator value is required.\u001b[39;00m\n\u001b[0;32m    602\u001b[0m \u001b[39mdef\u001b[39;00m \u001b[39mresult_iterator\u001b[39m():\n",
      "File \u001b[1;32mc:\\Users\\calba\\anaconda3\\lib\\site-packages\\vaex\\multithreading.py:86\u001b[0m, in \u001b[0;36mThreadPoolIndex.map.<locals>.cancellable_iter\u001b[1;34m()\u001b[0m\n\u001b[0;32m     85\u001b[0m \u001b[39mdef\u001b[39;00m \u001b[39mcancellable_iter\u001b[39m():\n\u001b[1;32m---> 86\u001b[0m     \u001b[39mfor\u001b[39;00m value \u001b[39min\u001b[39;00m chunk_iterator:\n\u001b[0;32m     87\u001b[0m         \u001b[39myield\u001b[39;00m value\n\u001b[0;32m     88\u001b[0m         \u001b[39mif\u001b[39;00m cancelled:\n",
      "File \u001b[1;32mc:\\Users\\calba\\anaconda3\\lib\\site-packages\\vaex\\dataset.py:1189\u001b[0m, in \u001b[0;36mDatasetDropped.chunk_iterator\u001b[1;34m(self, columns, chunk_size, reverse)\u001b[0m\n\u001b[0;32m   1187\u001b[0m     \u001b[39mif\u001b[39;00m column \u001b[39min\u001b[39;00m \u001b[39mself\u001b[39m\u001b[39m.\u001b[39m_dropped_names:\n\u001b[0;32m   1188\u001b[0m         \u001b[39mraise\u001b[39;00m \u001b[39mKeyError\u001b[39;00m(\u001b[39mf\u001b[39m\u001b[39m'\u001b[39m\u001b[39mOops, you tried to get column \u001b[39m\u001b[39m{\u001b[39;00mcolumn\u001b[39m}\u001b[39;00m\u001b[39m while it is actually dropped\u001b[39m\u001b[39m'\u001b[39m)\n\u001b[1;32m-> 1189\u001b[0m \u001b[39myield from\u001b[39;00m \u001b[39mself\u001b[39m\u001b[39m.\u001b[39moriginal\u001b[39m.\u001b[39mchunk_iterator(columns, chunk_size\u001b[39m=\u001b[39mchunk_size, reverse\u001b[39m=\u001b[39mreverse)\n",
      "File \u001b[1;32mc:\\Users\\calba\\anaconda3\\lib\\site-packages\\vaex\\join.py:65\u001b[0m, in \u001b[0;36mDatasetJoin.chunk_iterator\u001b[1;34m(self, *args, **kwargs)\u001b[0m\n\u001b[0;32m     64\u001b[0m \u001b[39mdef\u001b[39;00m \u001b[39mchunk_iterator\u001b[39m(\u001b[39mself\u001b[39m, \u001b[39m*\u001b[39margs, \u001b[39m*\u001b[39m\u001b[39m*\u001b[39mkwargs):\n\u001b[1;32m---> 65\u001b[0m     \u001b[39myield from\u001b[39;00m \u001b[39mself\u001b[39m\u001b[39m.\u001b[39moriginal\u001b[39m.\u001b[39mchunk_iterator(\u001b[39m*\u001b[39margs, \u001b[39m*\u001b[39m\u001b[39m*\u001b[39mkwargs)\n",
      "File \u001b[1;32mc:\\Users\\calba\\anaconda3\\lib\\site-packages\\vaex\\dataset.py:1255\u001b[0m, in \u001b[0;36mDatasetMerged.chunk_iterator\u001b[1;34m(self, columns, chunk_size, reverse)\u001b[0m\n\u001b[0;32m   1253\u001b[0m     \u001b[39myield from\u001b[39;00m \u001b[39mself\u001b[39m\u001b[39m.\u001b[39mright\u001b[39m.\u001b[39mchunk_iterator(columns, chunk_size, reverse\u001b[39m=\u001b[39mreverse)\n\u001b[0;32m   1254\u001b[0m \u001b[39melif\u001b[39;00m \u001b[39mnot\u001b[39;00m columns_right:\n\u001b[1;32m-> 1255\u001b[0m     \u001b[39myield from\u001b[39;00m \u001b[39mself\u001b[39m\u001b[39m.\u001b[39mleft\u001b[39m.\u001b[39mchunk_iterator(columns, chunk_size, reverse\u001b[39m=\u001b[39mreverse)\n\u001b[0;32m   1256\u001b[0m \u001b[39melse\u001b[39;00m:\n\u001b[0;32m   1257\u001b[0m     \u001b[39mfor\u001b[39;00m (i1, i2, ichunks), (j1, j2, jchunks) \u001b[39min\u001b[39;00m \u001b[39mzip\u001b[39m(\n\u001b[0;32m   1258\u001b[0m         \u001b[39mself\u001b[39m\u001b[39m.\u001b[39mleft\u001b[39m.\u001b[39mchunk_iterator(columns_left, chunk_size, reverse\u001b[39m=\u001b[39mreverse),\n\u001b[0;32m   1259\u001b[0m         \u001b[39mself\u001b[39m\u001b[39m.\u001b[39mright\u001b[39m.\u001b[39mchunk_iterator(columns_right, chunk_size, reverse\u001b[39m=\u001b[39mreverse)):\n\u001b[0;32m   1260\u001b[0m         \u001b[39m# TODO: if one of the datasets does not respect the chunk_size (e.g. parquet)\u001b[39;00m\n\u001b[0;32m   1261\u001b[0m         \u001b[39m# this might fail\u001b[39;00m\n",
      "File \u001b[1;32mc:\\Users\\calba\\anaconda3\\lib\\site-packages\\vaex\\dataset.py:666\u001b[0m, in \u001b[0;36mDatasetRenamed.chunk_iterator\u001b[1;34m(self, columns, chunk_size, reverse)\u001b[0m\n\u001b[0;32m    664\u001b[0m         \u001b[39mraise\u001b[39;00m \u001b[39mKeyError\u001b[39;00m(\u001b[39mf\u001b[39m\u001b[39m'\u001b[39m\u001b[39mOops, you tried to get column \u001b[39m\u001b[39m{\u001b[39;00mname\u001b[39m}\u001b[39;00m\u001b[39m, but you renamed it to \u001b[39m\u001b[39m{\u001b[39;00mrename\u001b[39m}\u001b[39;00m\u001b[39m'\u001b[39m)\n\u001b[0;32m    665\u001b[0m columns \u001b[39m=\u001b[39m [\u001b[39mself\u001b[39m\u001b[39m.\u001b[39mreverse\u001b[39m.\u001b[39mget(name, name) \u001b[39mfor\u001b[39;00m name \u001b[39min\u001b[39;00m columns]\n\u001b[1;32m--> 666\u001b[0m \u001b[39mfor\u001b[39;00m i1, i2, chunks \u001b[39min\u001b[39;00m \u001b[39mself\u001b[39m\u001b[39m.\u001b[39moriginal\u001b[39m.\u001b[39mchunk_iterator(columns, chunk_size, reverse\u001b[39m=\u001b[39mreverse):\n\u001b[0;32m    667\u001b[0m     \u001b[39myield\u001b[39;00m i1, i2, {\u001b[39mself\u001b[39m\u001b[39m.\u001b[39mrenaming\u001b[39m.\u001b[39mget(name, name): ar \u001b[39mfor\u001b[39;00m name, ar \u001b[39min\u001b[39;00m chunks\u001b[39m.\u001b[39mitems()}\n",
      "File \u001b[1;32mc:\\Users\\calba\\anaconda3\\lib\\site-packages\\vaex\\join.py:65\u001b[0m, in \u001b[0;36mDatasetJoin.chunk_iterator\u001b[1;34m(self, *args, **kwargs)\u001b[0m\n\u001b[0;32m     64\u001b[0m \u001b[39mdef\u001b[39;00m \u001b[39mchunk_iterator\u001b[39m(\u001b[39mself\u001b[39m, \u001b[39m*\u001b[39margs, \u001b[39m*\u001b[39m\u001b[39m*\u001b[39mkwargs):\n\u001b[1;32m---> 65\u001b[0m     \u001b[39myield from\u001b[39;00m \u001b[39mself\u001b[39m\u001b[39m.\u001b[39moriginal\u001b[39m.\u001b[39mchunk_iterator(\u001b[39m*\u001b[39margs, \u001b[39m*\u001b[39m\u001b[39m*\u001b[39mkwargs)\n",
      "File \u001b[1;32mc:\\Users\\calba\\anaconda3\\lib\\site-packages\\vaex\\dataset.py:1257\u001b[0m, in \u001b[0;36mDatasetMerged.chunk_iterator\u001b[1;34m(self, columns, chunk_size, reverse)\u001b[0m\n\u001b[0;32m   1255\u001b[0m     \u001b[39myield from\u001b[39;00m \u001b[39mself\u001b[39m\u001b[39m.\u001b[39mleft\u001b[39m.\u001b[39mchunk_iterator(columns, chunk_size, reverse\u001b[39m=\u001b[39mreverse)\n\u001b[0;32m   1256\u001b[0m \u001b[39melse\u001b[39;00m:\n\u001b[1;32m-> 1257\u001b[0m     \u001b[39mfor\u001b[39;00m (i1, i2, ichunks), (j1, j2, jchunks) \u001b[39min\u001b[39;00m \u001b[39mzip\u001b[39m(\n\u001b[0;32m   1258\u001b[0m         \u001b[39mself\u001b[39m\u001b[39m.\u001b[39mleft\u001b[39m.\u001b[39mchunk_iterator(columns_left, chunk_size, reverse\u001b[39m=\u001b[39mreverse),\n\u001b[0;32m   1259\u001b[0m         \u001b[39mself\u001b[39m\u001b[39m.\u001b[39mright\u001b[39m.\u001b[39mchunk_iterator(columns_right, chunk_size, reverse\u001b[39m=\u001b[39mreverse)):\n\u001b[0;32m   1260\u001b[0m         \u001b[39m# TODO: if one of the datasets does not respect the chunk_size (e.g. parquet)\u001b[39;00m\n\u001b[0;32m   1261\u001b[0m         \u001b[39m# this might fail\u001b[39;00m\n\u001b[0;32m   1262\u001b[0m         \u001b[39massert\u001b[39;00m i1 \u001b[39m==\u001b[39m j1\n\u001b[0;32m   1263\u001b[0m         \u001b[39massert\u001b[39;00m i2 \u001b[39m==\u001b[39m j2\n",
      "File \u001b[1;32mc:\\Users\\calba\\anaconda3\\lib\\site-packages\\vaex\\dataset.py:1136\u001b[0m, in \u001b[0;36mDatasetSlicedArrays.chunk_iterator\u001b[1;34m(self, columns, chunk_size, reverse)\u001b[0m\n\u001b[0;32m   1135\u001b[0m \u001b[39mdef\u001b[39;00m \u001b[39mchunk_iterator\u001b[39m(\u001b[39mself\u001b[39m, columns, chunk_size\u001b[39m=\u001b[39m\u001b[39mNone\u001b[39;00m, reverse\u001b[39m=\u001b[39m\u001b[39mFalse\u001b[39;00m):\n\u001b[1;32m-> 1136\u001b[0m     \u001b[39myield from\u001b[39;00m \u001b[39mself\u001b[39m\u001b[39m.\u001b[39m_default_chunk_iterator(\u001b[39mself\u001b[39m\u001b[39m.\u001b[39m_columns, columns, chunk_size, reverse\u001b[39m=\u001b[39mreverse)\n",
      "File \u001b[1;32mc:\\Users\\calba\\anaconda3\\lib\\site-packages\\vaex\\dataset.py:525\u001b[0m, in \u001b[0;36mDataset._default_chunk_iterator\u001b[1;34m(self, array_map, columns, chunk_size, reverse)\u001b[0m\n\u001b[0;32m    523\u001b[0m \u001b[39mdef\u001b[39;00m \u001b[39m_default_chunk_iterator\u001b[39m(\u001b[39mself\u001b[39m, array_map, columns, chunk_size, reverse\u001b[39m=\u001b[39m\u001b[39mFalse\u001b[39;00m):\n\u001b[0;32m    524\u001b[0m     \u001b[39mfor\u001b[39;00m i1, i2, reader \u001b[39min\u001b[39;00m \u001b[39mself\u001b[39m\u001b[39m.\u001b[39m_default_lazy_chunk_iterator(array_map, columns, chunk_size, reverse):\n\u001b[1;32m--> 525\u001b[0m         \u001b[39myield\u001b[39;00m i1, i2, reader()\n",
      "File \u001b[1;32mc:\\Users\\calba\\anaconda3\\lib\\site-packages\\vaex\\dataset.py:516\u001b[0m, in \u001b[0;36mDataset._default_lazy_chunk_iterator.<locals>.reader\u001b[1;34m(i1, i2)\u001b[0m\n\u001b[0;32m    515\u001b[0m \u001b[39mdef\u001b[39;00m \u001b[39mreader\u001b[39m(i1\u001b[39m=\u001b[39mi1, i2\u001b[39m=\u001b[39mi2):\n\u001b[1;32m--> 516\u001b[0m     chunks \u001b[39m=\u001b[39m {k: array_map[k][i1:i2] \u001b[39mfor\u001b[39;00m k \u001b[39min\u001b[39;00m columns}\n\u001b[0;32m    517\u001b[0m     length \u001b[39m=\u001b[39m i2 \u001b[39m-\u001b[39m i1\n\u001b[0;32m    518\u001b[0m     \u001b[39mfor\u001b[39;00m name, chunk \u001b[39min\u001b[39;00m chunks\u001b[39m.\u001b[39mitems():\n",
      "File \u001b[1;32mc:\\Users\\calba\\anaconda3\\lib\\site-packages\\vaex\\dataset.py:516\u001b[0m, in \u001b[0;36m<dictcomp>\u001b[1;34m(.0)\u001b[0m\n\u001b[0;32m    515\u001b[0m \u001b[39mdef\u001b[39;00m \u001b[39mreader\u001b[39m(i1\u001b[39m=\u001b[39mi1, i2\u001b[39m=\u001b[39mi2):\n\u001b[1;32m--> 516\u001b[0m     chunks \u001b[39m=\u001b[39m {k: array_map[k][i1:i2] \u001b[39mfor\u001b[39;00m k \u001b[39min\u001b[39;00m columns}\n\u001b[0;32m    517\u001b[0m     length \u001b[39m=\u001b[39m i2 \u001b[39m-\u001b[39m i1\n\u001b[0;32m    518\u001b[0m     \u001b[39mfor\u001b[39;00m name, chunk \u001b[39min\u001b[39;00m chunks\u001b[39m.\u001b[39mitems():\n",
      "File \u001b[1;32mc:\\Users\\calba\\anaconda3\\lib\\site-packages\\vaex\\column.py:362\u001b[0m, in \u001b[0;36mColumnIndexed.__getitem__\u001b[1;34m(self, slice)\u001b[0m\n\u001b[0;32m    360\u001b[0m ar_unfiltered \u001b[39m=\u001b[39m \u001b[39mself\u001b[39m\u001b[39m.\u001b[39mcolumn\n\u001b[0;32m    361\u001b[0m \u001b[39mif\u001b[39;00m \u001b[39mself\u001b[39m\u001b[39m.\u001b[39mmasked:\n\u001b[1;32m--> 362\u001b[0m     mask \u001b[39m=\u001b[39m indices \u001b[39m==\u001b[39;49m \u001b[39m-\u001b[39;49m\u001b[39m1\u001b[39;49m\n\u001b[0;32m    363\u001b[0m \u001b[39mif\u001b[39;00m \u001b[39misinstance\u001b[39m(ar_unfiltered, Column):\n\u001b[0;32m    364\u001b[0m     \u001b[39m# TODO: this is a workaround, since we do not require yet\u001b[39;00m\n\u001b[0;32m    365\u001b[0m     \u001b[39m# that Column classes know how to deal with indices, we get\u001b[39;00m\n\u001b[0;32m    366\u001b[0m     \u001b[39m# the minimal slice, and get those (not the most efficient)\u001b[39;00m\n\u001b[0;32m    367\u001b[0m     \u001b[39mif\u001b[39;00m \u001b[39mself\u001b[39m\u001b[39m.\u001b[39mmasked:\n",
      "\u001b[1;31mKeyboardInterrupt\u001b[0m: "
     ]
    }
   ],
   "source": [
    "#save both dfs\n",
    "\n",
    "#traf_acci4_1.export_hdf5('../../traf_acci4_1.hdf5', progress=True)"
   ]
  },
  {
   "cell_type": "code",
   "execution_count": null,
   "metadata": {},
   "outputs": [],
   "source": [
    "traf_acci4_2.export_hdf5('../../traf_acci4_2.hdf5')"
   ]
  },
  {
   "cell_type": "code",
   "execution_count": 27,
   "metadata": {},
   "outputs": [],
   "source": [
    "#traf.accidente.value_counts()"
   ]
  }
 ],
 "metadata": {
  "kernelspec": {
   "display_name": "base",
   "language": "python",
   "name": "python3"
  },
  "language_info": {
   "codemirror_mode": {
    "name": "ipython",
    "version": 3
   },
   "file_extension": ".py",
   "mimetype": "text/x-python",
   "name": "python",
   "nbconvert_exporter": "python",
   "pygments_lexer": "ipython3",
   "version": "3.9.13"
  },
  "orig_nbformat": 4
 },
 "nbformat": 4,
 "nbformat_minor": 2
}
