{
 "cells": [
  {
   "cell_type": "code",
   "execution_count": 2,
   "metadata": {},
   "outputs": [],
   "source": [
    "import pandas as pd\n",
    "import numpy as np\n",
    "import vaex"
   ]
  },
  {
   "cell_type": "code",
   "execution_count": 3,
   "metadata": {},
   "outputs": [
    {
     "data": {
      "text/html": [
       "<style>.vaex-description pre {\n",
       "          max-width : 450px;\n",
       "          white-space : nowrap;\n",
       "          overflow : hidden;\n",
       "          text-overflow: ellipsis;\n",
       "        }\n",
       "\n",
       "        .vex-description pre:hover {\n",
       "          max-width : initial;\n",
       "          white-space: pre;\n",
       "        }</style>"
      ],
      "text/plain": [
       "<IPython.core.display.HTML object>"
      ]
     },
     "metadata": {},
     "output_type": "display_data"
    },
    {
     "data": {
      "text/html": [
       "<div><h2>traf_hist_unir</h2> <b>rows</b>: 563,682,234</div><h2>Columns:</h2><table class='table-striped'><thead><tr><th>column</th><th>type</th><th>unit</th><th>description</th><th>expression</th></tr></thead><tr><td>idelem</td><td>str</td><td></td><td ><pre></pre></td><td></td></tr><tr><td>fecha_full</td><td>str</td><td></td><td ><pre></pre></td><td></td></tr><tr><td>intensidad</td><td>float64</td><td></td><td ><pre></pre></td><td></td></tr><tr><td>ocupacion</td><td>float64</td><td></td><td ><pre></pre></td><td></td></tr><tr><td>carga</td><td>float64</td><td></td><td ><pre></pre></td><td></td></tr><tr><td>prec</td><td>str</td><td></td><td ><pre></pre></td><td></td></tr><tr><td>velmedia</td><td>str</td><td></td><td ><pre></pre></td><td></td></tr><tr><td>unir</td><td>str</td><td></td><td ><pre></pre></td><td></td></tr></table><h2>Data:</h2><table>\n",
       "<thead>\n",
       "<tr><th>#                                      </th><th>idelem  </th><th>fecha_full         </th><th>intensidad  </th><th>ocupacion  </th><th>carga  </th><th>prec  </th><th>velmedia  </th><th>unir                     </th></tr>\n",
       "</thead>\n",
       "<tbody>\n",
       "<tr><td><i style='opacity: 0.6'>0</i>          </td><td>3564    </td><td>2013-01-20 20:30:00</td><td>8.0         </td><td>0.0        </td><td>1.0    </td><td>0,7   </td><td>3,3       </td><td>2013-01-20 20:30:00 3564 </td></tr>\n",
       "<tr><td><i style='opacity: 0.6'>1</i>          </td><td>3882    </td><td>2013-01-20 20:30:00</td><td>1164.0      </td><td>4.0        </td><td>22.0   </td><td>0,7   </td><td>3,3       </td><td>2013-01-20 20:30:00 3882 </td></tr>\n",
       "<tr><td><i style='opacity: 0.6'>2</i>          </td><td>3883    </td><td>2013-01-20 20:30:00</td><td>1143.0      </td><td>4.0        </td><td>22.0   </td><td>0,7   </td><td>3,3       </td><td>2013-01-20 20:30:00 3883 </td></tr>\n",
       "<tr><td><i style='opacity: 0.6'>3</i>          </td><td>3884    </td><td>2013-01-20 20:30:00</td><td>958.0       </td><td>3.0        </td><td>18.0   </td><td>0,7   </td><td>3,3       </td><td>2013-01-20 20:30:00 3884 </td></tr>\n",
       "<tr><td><i style='opacity: 0.6'>4</i>          </td><td>3885    </td><td>2013-01-20 20:30:00</td><td>1028.0      </td><td>4.0        </td><td>20.0   </td><td>0,7   </td><td>3,3       </td><td>2013-01-20 20:30:00 3885 </td></tr>\n",
       "<tr><td>...                                    </td><td>...     </td><td>...                </td><td>...         </td><td>...        </td><td>...    </td><td>...   </td><td>...       </td><td>...                      </td></tr>\n",
       "<tr><td><i style='opacity: 0.6'>563,682,229</i></td><td>11058   </td><td>2022-12-31 21:30:00</td><td>259.0       </td><td>0.0        </td><td>8.0    </td><td>0,1   </td><td>0,3       </td><td>2022-12-31 21:30:00 11058</td></tr>\n",
       "<tr><td><i style='opacity: 0.6'>563,682,230</i></td><td>11058   </td><td>2022-12-31 22:00:00</td><td>125.0       </td><td>0.0        </td><td>3.0    </td><td>0,1   </td><td>0,3       </td><td>2022-12-31 22:00:00 11058</td></tr>\n",
       "<tr><td><i style='opacity: 0.6'>563,682,231</i></td><td>11058   </td><td>2022-12-31 22:30:00</td><td>68.0        </td><td>0.0        </td><td>1.0    </td><td>0,1   </td><td>0,3       </td><td>2022-12-31 22:30:00 11058</td></tr>\n",
       "<tr><td><i style='opacity: 0.6'>563,682,232</i></td><td>11058   </td><td>2022-12-31 23:00:00</td><td>66.0        </td><td>0.0        </td><td>1.0    </td><td>0,1   </td><td>0,3       </td><td>2022-12-31 23:00:00 11058</td></tr>\n",
       "<tr><td><i style='opacity: 0.6'>563,682,233</i></td><td>11058   </td><td>2022-12-31 23:30:00</td><td>42.0        </td><td>0.0        </td><td>0.0    </td><td>0,1   </td><td>0,3       </td><td>2022-12-31 23:30:00 11058</td></tr>\n",
       "</tbody>\n",
       "</table>"
      ],
      "text/plain": [
       "<IPython.core.display.HTML object>"
      ]
     },
     "metadata": {},
     "output_type": "display_data"
    }
   ],
   "source": [
    "traf = vaex.open('../../TRAFICO/traf_hist_unir.hdf5')\n",
    "\n",
    "traf.info()"
   ]
  },
  {
   "cell_type": "code",
   "execution_count": null,
   "metadata": {},
   "outputs": [],
   "source": [
    "# filter traf by idelem equal to 3564\n",
    "\n",
    "traf_3564 = traf[traf.idelem == 3564]"
   ]
  }
 ],
 "metadata": {
  "kernelspec": {
   "display_name": "base",
   "language": "python",
   "name": "python3"
  },
  "language_info": {
   "codemirror_mode": {
    "name": "ipython",
    "version": 3
   },
   "file_extension": ".py",
   "mimetype": "text/x-python",
   "name": "python",
   "nbconvert_exporter": "python",
   "pygments_lexer": "ipython3",
   "version": "3.9.13"
  },
  "orig_nbformat": 4
 },
 "nbformat": 4,
 "nbformat_minor": 2
}
