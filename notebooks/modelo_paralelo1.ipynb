{
 "cells": [
  {
   "cell_type": "code",
   "execution_count": 1,
   "metadata": {},
   "outputs": [],
   "source": [
    "import pandas as pd\n",
    "import numpy as np\n",
    "import vaex\n",
    "import pickle\n",
    "from sklearn.linear_model import LogisticRegression\n",
    "from sklearn.model_selection import train_test_split\n",
    "from sklearn.preprocessing import StandardScaler\n",
    "\n",
    "from sklearn.ensemble import RandomForestClassifier"
   ]
  },
  {
   "cell_type": "code",
   "execution_count": 2,
   "metadata": {},
   "outputs": [
    {
     "data": {
      "text/html": [
       "<pre style=\"white-space:pre;overflow-x:auto;line-height:normal;font-family:Menlo,'DejaVu Sans Mono',consolas,'Courier New',monospace\"><span style=\"color: #7fbfbf; text-decoration-color: #7fbfbf\">[03/16/23 16:39:56] </span><span style=\"color: #800000; text-decoration-color: #800000; font-weight: bold\">ERROR   </span> error opening <span style=\"color: #008000; text-decoration-color: #008000\">'../../TRAFICO/traf_hist_unir.hdf5'</span>                      <a href=\"file://c:\\Users\\calba\\anaconda3\\lib\\site-packages\\vaex\\__init__.py\" target=\"_blank\"><span style=\"color: #7f7f7f; text-decoration-color: #7f7f7f\">__init__.py</span></a><span style=\"color: #7f7f7f; text-decoration-color: #7f7f7f\">:</span><a href=\"file://c:\\Users\\calba\\anaconda3\\lib\\site-packages\\vaex\\__init__.py#271\" target=\"_blank\"><span style=\"color: #7f7f7f; text-decoration-color: #7f7f7f\">271</span></a>\n",
       "<span style=\"color: #7fbfbf; text-decoration-color: #7fbfbf\">                    </span>         Traceback <span style=\"font-weight: bold\">(</span>most recent call last<span style=\"font-weight: bold\">)</span>:                                     <span style=\"color: #7f7f7f; text-decoration-color: #7f7f7f\">               </span>\n",
       "<span style=\"color: #7fbfbf; text-decoration-color: #7fbfbf\">                    </span>           File <span style=\"color: #008000; text-decoration-color: #008000\">\"c:\\Users\\calba\\anaconda3\\lib\\site-packages\\vaex\\__init__.py\"</span>,  <span style=\"color: #7f7f7f; text-decoration-color: #7f7f7f\">               </span>\n",
       "<span style=\"color: #7fbfbf; text-decoration-color: #7fbfbf\">                    </span>         line <span style=\"color: #008080; text-decoration-color: #008080; font-weight: bold\">244</span>, in open                                                      <span style=\"color: #7f7f7f; text-decoration-color: #7f7f7f\">               </span>\n",
       "<span style=\"color: #7fbfbf; text-decoration-color: #7fbfbf\">                    </span>             ds = <span style=\"color: #800080; text-decoration-color: #800080; font-weight: bold\">vaex.dataset.open</span><span style=\"font-weight: bold\">(</span>path, <span style=\"color: #808000; text-decoration-color: #808000\">fs_options</span>=<span style=\"color: #800080; text-decoration-color: #800080\">fs_options</span>, <span style=\"color: #808000; text-decoration-color: #808000\">fs</span>=<span style=\"color: #800080; text-decoration-color: #800080\">fs</span>,         <span style=\"color: #7f7f7f; text-decoration-color: #7f7f7f\">               </span>\n",
       "<span style=\"color: #7fbfbf; text-decoration-color: #7fbfbf\">                    </span>         **kwargs<span style=\"font-weight: bold\">)</span>                                                              <span style=\"color: #7f7f7f; text-decoration-color: #7f7f7f\">               </span>\n",
       "<span style=\"color: #7fbfbf; text-decoration-color: #7fbfbf\">                    </span>           File <span style=\"color: #008000; text-decoration-color: #008000\">\"c:\\Users\\calba\\anaconda3\\lib\\site-packages\\vaex\\dataset.py\"</span>,   <span style=\"color: #7f7f7f; text-decoration-color: #7f7f7f\">               </span>\n",
       "<span style=\"color: #7fbfbf; text-decoration-color: #7fbfbf\">                    </span>         line <span style=\"color: #008080; text-decoration-color: #008080; font-weight: bold\">80</span>, in open                                                       <span style=\"color: #7f7f7f; text-decoration-color: #7f7f7f\">               </span>\n",
       "<span style=\"color: #7fbfbf; text-decoration-color: #7fbfbf\">                    </span>             if <span style=\"color: #800080; text-decoration-color: #800080; font-weight: bold\">opener.can_open</span><span style=\"font-weight: bold\">(</span>path, <span style=\"color: #808000; text-decoration-color: #808000\">fs_options</span>=<span style=\"color: #800080; text-decoration-color: #800080\">fs_options</span>, <span style=\"color: #808000; text-decoration-color: #808000\">fs</span>=<span style=\"color: #800080; text-decoration-color: #800080\">fs</span>, *args,      <span style=\"color: #7f7f7f; text-decoration-color: #7f7f7f\">               </span>\n",
       "<span style=\"color: #7fbfbf; text-decoration-color: #7fbfbf\">                    </span>         **kwargs<span style=\"font-weight: bold\">)</span>:                                                             <span style=\"color: #7f7f7f; text-decoration-color: #7f7f7f\">               </span>\n",
       "<span style=\"color: #7fbfbf; text-decoration-color: #7fbfbf\">                    </span>           File                                                                 <span style=\"color: #7f7f7f; text-decoration-color: #7f7f7f\">               </span>\n",
       "<span style=\"color: #7fbfbf; text-decoration-color: #7fbfbf\">                    </span>         <span style=\"color: #008000; text-decoration-color: #008000\">\"c:\\Users\\calba\\anaconda3\\lib\\site-packages\\vaex\\hdf5\\dataset.py\"</span>,     <span style=\"color: #7f7f7f; text-decoration-color: #7f7f7f\">               </span>\n",
       "<span style=\"color: #7fbfbf; text-decoration-color: #7fbfbf\">                    </span>         line <span style=\"color: #008080; text-decoration-color: #008080; font-weight: bold\">167</span>, in can_open                                                  <span style=\"color: #7f7f7f; text-decoration-color: #7f7f7f\">               </span>\n",
       "<span style=\"color: #7fbfbf; text-decoration-color: #7fbfbf\">                    </span>             with <span style=\"color: #800080; text-decoration-color: #800080; font-weight: bold\">vaex.file.open</span><span style=\"font-weight: bold\">(</span>path, <span style=\"color: #808000; text-decoration-color: #808000\">fs_options</span>=<span style=\"color: #800080; text-decoration-color: #800080\">fs_options</span>, <span style=\"color: #808000; text-decoration-color: #808000\">fs</span>=<span style=\"color: #800080; text-decoration-color: #800080\">fs</span><span style=\"font-weight: bold\">)</span> as f:      <span style=\"color: #7f7f7f; text-decoration-color: #7f7f7f\">               </span>\n",
       "<span style=\"color: #7fbfbf; text-decoration-color: #7fbfbf\">                    </span>           File                                                                 <span style=\"color: #7f7f7f; text-decoration-color: #7f7f7f\">               </span>\n",
       "<span style=\"color: #7fbfbf; text-decoration-color: #7fbfbf\">                    </span>         <span style=\"color: #008000; text-decoration-color: #008000\">\"c:\\Users\\calba\\anaconda3\\lib\\site-packages\\vaex\\file\\__init__.py\"</span>,    <span style=\"color: #7f7f7f; text-decoration-color: #7f7f7f\">               </span>\n",
       "<span style=\"color: #7fbfbf; text-decoration-color: #7fbfbf\">                    </span>         line <span style=\"color: #008080; text-decoration-color: #008080; font-weight: bold\">320</span>, in open                                                      <span style=\"color: #7f7f7f; text-decoration-color: #7f7f7f\">               </span>\n",
       "<span style=\"color: #7fbfbf; text-decoration-color: #7fbfbf\">                    </span>             return <span style=\"color: #800080; text-decoration-color: #800080; font-weight: bold\">normal_open</span><span style=\"font-weight: bold\">(</span>path, mode<span style=\"font-weight: bold\">)</span>                                     <span style=\"color: #7f7f7f; text-decoration-color: #7f7f7f\">               </span>\n",
       "<span style=\"color: #7fbfbf; text-decoration-color: #7fbfbf\">                    </span>         FileNotFoundError: <span style=\"font-weight: bold\">[</span>Errno <span style=\"color: #008080; text-decoration-color: #008080; font-weight: bold\">2</span><span style=\"font-weight: bold\">]</span> No such file or directory:                <span style=\"color: #7f7f7f; text-decoration-color: #7f7f7f\">               </span>\n",
       "<span style=\"color: #7fbfbf; text-decoration-color: #7fbfbf\">                    </span>         <span style=\"color: #008000; text-decoration-color: #008000\">'../../TRAFICO/traf_hist_unir.hdf5'</span>                                    <span style=\"color: #7f7f7f; text-decoration-color: #7f7f7f\">               </span>\n",
       "</pre>\n"
      ],
      "text/plain": [
       "\u001b[2;36m[03/16/23 16:39:56]\u001b[0m\u001b[2;36m \u001b[0m\u001b[1;31mERROR   \u001b[0m error opening \u001b[32m'../../TRAFICO/traf_hist_unir.hdf5'\u001b[0m                      \u001b]8;id=968714;file://c:\\Users\\calba\\anaconda3\\lib\\site-packages\\vaex\\__init__.py\u001b\\\u001b[2m__init__.py\u001b[0m\u001b]8;;\u001b\\\u001b[2m:\u001b[0m\u001b]8;id=995127;file://c:\\Users\\calba\\anaconda3\\lib\\site-packages\\vaex\\__init__.py#271\u001b\\\u001b[2m271\u001b[0m\u001b]8;;\u001b\\\n",
       "\u001b[2;36m                    \u001b[0m         Traceback \u001b[1m(\u001b[0mmost recent call last\u001b[1m)\u001b[0m:                                     \u001b[2m               \u001b[0m\n",
       "\u001b[2;36m                    \u001b[0m           File \u001b[32m\"c:\\Users\\calba\\anaconda3\\lib\\site-packages\\vaex\\__init__.py\"\u001b[0m,  \u001b[2m               \u001b[0m\n",
       "\u001b[2;36m                    \u001b[0m         line \u001b[1;36m244\u001b[0m, in open                                                      \u001b[2m               \u001b[0m\n",
       "\u001b[2;36m                    \u001b[0m             ds = \u001b[1;35mvaex.dataset.open\u001b[0m\u001b[1m(\u001b[0mpath, \u001b[33mfs_options\u001b[0m=\u001b[35mfs_options\u001b[0m, \u001b[33mfs\u001b[0m=\u001b[35mfs\u001b[0m,         \u001b[2m               \u001b[0m\n",
       "\u001b[2;36m                    \u001b[0m         **kwargs\u001b[1m)\u001b[0m                                                              \u001b[2m               \u001b[0m\n",
       "\u001b[2;36m                    \u001b[0m           File \u001b[32m\"c:\\Users\\calba\\anaconda3\\lib\\site-packages\\vaex\\dataset.py\"\u001b[0m,   \u001b[2m               \u001b[0m\n",
       "\u001b[2;36m                    \u001b[0m         line \u001b[1;36m80\u001b[0m, in open                                                       \u001b[2m               \u001b[0m\n",
       "\u001b[2;36m                    \u001b[0m             if \u001b[1;35mopener.can_open\u001b[0m\u001b[1m(\u001b[0mpath, \u001b[33mfs_options\u001b[0m=\u001b[35mfs_options\u001b[0m, \u001b[33mfs\u001b[0m=\u001b[35mfs\u001b[0m, *args,      \u001b[2m               \u001b[0m\n",
       "\u001b[2;36m                    \u001b[0m         **kwargs\u001b[1m)\u001b[0m:                                                             \u001b[2m               \u001b[0m\n",
       "\u001b[2;36m                    \u001b[0m           File                                                                 \u001b[2m               \u001b[0m\n",
       "\u001b[2;36m                    \u001b[0m         \u001b[32m\"c:\\Users\\calba\\anaconda3\\lib\\site-packages\\vaex\\hdf5\\dataset.py\"\u001b[0m,     \u001b[2m               \u001b[0m\n",
       "\u001b[2;36m                    \u001b[0m         line \u001b[1;36m167\u001b[0m, in can_open                                                  \u001b[2m               \u001b[0m\n",
       "\u001b[2;36m                    \u001b[0m             with \u001b[1;35mvaex.file.open\u001b[0m\u001b[1m(\u001b[0mpath, \u001b[33mfs_options\u001b[0m=\u001b[35mfs_options\u001b[0m, \u001b[33mfs\u001b[0m=\u001b[35mfs\u001b[0m\u001b[1m)\u001b[0m as f:      \u001b[2m               \u001b[0m\n",
       "\u001b[2;36m                    \u001b[0m           File                                                                 \u001b[2m               \u001b[0m\n",
       "\u001b[2;36m                    \u001b[0m         \u001b[32m\"c:\\Users\\calba\\anaconda3\\lib\\site-packages\\vaex\\file\\__init__.py\"\u001b[0m,    \u001b[2m               \u001b[0m\n",
       "\u001b[2;36m                    \u001b[0m         line \u001b[1;36m320\u001b[0m, in open                                                      \u001b[2m               \u001b[0m\n",
       "\u001b[2;36m                    \u001b[0m             return \u001b[1;35mnormal_open\u001b[0m\u001b[1m(\u001b[0mpath, mode\u001b[1m)\u001b[0m                                     \u001b[2m               \u001b[0m\n",
       "\u001b[2;36m                    \u001b[0m         FileNotFoundError: \u001b[1m[\u001b[0mErrno \u001b[1;36m2\u001b[0m\u001b[1m]\u001b[0m No such file or directory:                \u001b[2m               \u001b[0m\n",
       "\u001b[2;36m                    \u001b[0m         \u001b[32m'../../TRAFICO/traf_hist_unir.hdf5'\u001b[0m                                    \u001b[2m               \u001b[0m\n"
      ]
     },
     "metadata": {},
     "output_type": "display_data"
    },
    {
     "ename": "FileNotFoundError",
     "evalue": "[Errno 2] No such file or directory: '../../TRAFICO/traf_hist_unir.hdf5'",
     "output_type": "error",
     "traceback": [
      "\u001b[1;31m---------------------------------------------------------------------------\u001b[0m",
      "\u001b[1;31mFileNotFoundError\u001b[0m                         Traceback (most recent call last)",
      "Cell \u001b[1;32mIn[2], line 1\u001b[0m\n\u001b[1;32m----> 1\u001b[0m traf \u001b[39m=\u001b[39m vaex\u001b[39m.\u001b[39;49mopen(\u001b[39m'\u001b[39;49m\u001b[39m../../TRAFICO/traf_hist_unir.hdf5\u001b[39;49m\u001b[39m'\u001b[39;49m)\n\u001b[0;32m      3\u001b[0m acci_filtered_vaex \u001b[39m=\u001b[39m vaex\u001b[39m.\u001b[39mopen(\u001b[39m'\u001b[39m\u001b[39m../../acci_filtered_vaex.hdf5\u001b[39m\u001b[39m'\u001b[39m)\n\u001b[0;32m      5\u001b[0m accis_id \u001b[39m=\u001b[39m acci_filtered_vaex\u001b[39m.\u001b[39mto_pandas_df()\n",
      "File \u001b[1;32mc:\\Users\\calba\\anaconda3\\lib\\site-packages\\vaex\\__init__.py:244\u001b[0m, in \u001b[0;36mopen\u001b[1;34m(path, convert, progress, shuffle, fs_options, fs, *args, **kwargs)\u001b[0m\n\u001b[0;32m    242\u001b[0m     ds \u001b[39m=\u001b[39m vaex\u001b[39m.\u001b[39mdataset\u001b[39m.\u001b[39mopen(path_output, fs_options\u001b[39m=\u001b[39mfs_options, fs\u001b[39m=\u001b[39mfs)\n\u001b[0;32m    243\u001b[0m \u001b[39melse\u001b[39;00m:\n\u001b[1;32m--> 244\u001b[0m     ds \u001b[39m=\u001b[39m vaex\u001b[39m.\u001b[39mdataset\u001b[39m.\u001b[39mopen(path, fs_options\u001b[39m=\u001b[39mfs_options, fs\u001b[39m=\u001b[39mfs, \u001b[39m*\u001b[39m\u001b[39m*\u001b[39mkwargs)\n\u001b[0;32m    245\u001b[0m df \u001b[39m=\u001b[39m vaex\u001b[39m.\u001b[39mfrom_dataset(ds)\n\u001b[0;32m    246\u001b[0m \u001b[39mif\u001b[39;00m df \u001b[39mis\u001b[39;00m \u001b[39mNone\u001b[39;00m:\n",
      "File \u001b[1;32mc:\\Users\\calba\\anaconda3\\lib\\site-packages\\vaex\\dataset.py:80\u001b[0m, in \u001b[0;36mopen\u001b[1;34m(path, fs_options, fs, *args, **kwargs)\u001b[0m\n\u001b[0;32m     78\u001b[0m \u001b[39mfor\u001b[39;00m opener \u001b[39min\u001b[39;00m opener_classes:\n\u001b[0;32m     79\u001b[0m     \u001b[39mif\u001b[39;00m opener\u001b[39m.\u001b[39mquick_test(path, fs_options\u001b[39m=\u001b[39mfs_options, fs\u001b[39m=\u001b[39mfs):\n\u001b[1;32m---> 80\u001b[0m         \u001b[39mif\u001b[39;00m opener\u001b[39m.\u001b[39mcan_open(path, fs_options\u001b[39m=\u001b[39mfs_options, fs\u001b[39m=\u001b[39mfs, \u001b[39m*\u001b[39margs, \u001b[39m*\u001b[39m\u001b[39m*\u001b[39mkwargs):\n\u001b[0;32m     81\u001b[0m             \u001b[39mreturn\u001b[39;00m opener\u001b[39m.\u001b[39mopen(path, fs_options\u001b[39m=\u001b[39mfs_options, fs\u001b[39m=\u001b[39mfs, \u001b[39m*\u001b[39margs, \u001b[39m*\u001b[39m\u001b[39m*\u001b[39mkwargs)\n\u001b[0;32m     83\u001b[0m \u001b[39m# otherwise try all openers\u001b[39;00m\n",
      "File \u001b[1;32mc:\\Users\\calba\\anaconda3\\lib\\site-packages\\vaex\\hdf5\\dataset.py:167\u001b[0m, in \u001b[0;36mHdf5MemoryMapped.can_open\u001b[1;34m(cls, path, fs_options, fs, group, **kwargs)\u001b[0m\n\u001b[0;32m    165\u001b[0m \u001b[39m@classmethod\u001b[39m\n\u001b[0;32m    166\u001b[0m \u001b[39mdef\u001b[39;00m \u001b[39mcan_open\u001b[39m(\u001b[39mcls\u001b[39m, path, fs_options\u001b[39m=\u001b[39m{}, fs\u001b[39m=\u001b[39m\u001b[39mNone\u001b[39;00m, group\u001b[39m=\u001b[39m\u001b[39mNone\u001b[39;00m, \u001b[39m*\u001b[39m\u001b[39m*\u001b[39mkwargs):\n\u001b[1;32m--> 167\u001b[0m     \u001b[39mwith\u001b[39;00m vaex\u001b[39m.\u001b[39;49mfile\u001b[39m.\u001b[39;49mopen(path, fs_options\u001b[39m=\u001b[39;49mfs_options, fs\u001b[39m=\u001b[39;49mfs) \u001b[39mas\u001b[39;00m f:\n\u001b[0;32m    168\u001b[0m         signature \u001b[39m=\u001b[39m f\u001b[39m.\u001b[39mread(\u001b[39m4\u001b[39m)\n\u001b[0;32m    169\u001b[0m         \u001b[39mif\u001b[39;00m signature \u001b[39m!=\u001b[39m \u001b[39mb\u001b[39m\u001b[39m\"\u001b[39m\u001b[39m\\x89\u001b[39;00m\u001b[39m\\x48\u001b[39;00m\u001b[39m\\x44\u001b[39;00m\u001b[39m\\x46\u001b[39;00m\u001b[39m\"\u001b[39m:\n",
      "File \u001b[1;32mc:\\Users\\calba\\anaconda3\\lib\\site-packages\\vaex\\file\\__init__.py:320\u001b[0m, in \u001b[0;36mopen\u001b[1;34m(path, mode, fs_options, fs, for_arrow, mmap, encoding)\u001b[0m\n\u001b[0;32m    318\u001b[0m             \u001b[39mreturn\u001b[39;00m normal_open(path, mode, encoding\u001b[39m=\u001b[39mencoding)\n\u001b[0;32m    319\u001b[0m         \u001b[39melse\u001b[39;00m:\n\u001b[1;32m--> 320\u001b[0m             \u001b[39mreturn\u001b[39;00m normal_open(path, mode)\n\u001b[0;32m    321\u001b[0m \u001b[39mif\u001b[39;00m mode \u001b[39m==\u001b[39m \u001b[39m'\u001b[39m\u001b[39mrb\u001b[39m\u001b[39m'\u001b[39m:\n\u001b[0;32m    322\u001b[0m     \u001b[39mdef\u001b[39;00m \u001b[39mcreate\u001b[39m():\n",
      "\u001b[1;31mFileNotFoundError\u001b[0m: [Errno 2] No such file or directory: '../../TRAFICO/traf_hist_unir.hdf5'"
     ]
    }
   ],
   "source": [
    "traf = vaex.open('../../TRAFICO/traf_hist_unir.hdf5')\n",
    "\n",
    "acci_filtered_vaex = vaex.open('../../acci_filtered_vaex.hdf5')\n",
    "\n",
    "accis_id = acci_filtered_vaex.to_pandas_df()\n",
    "\n",
    "ids = list(set(accis_id.idelem.value_counts().index).intersection(traf.idelem.unique()))\n",
    "\n",
    "acci = pd.read_csv('../data/biblio_acci.csv')\n"
   ]
  },
  {
   "cell_type": "code",
   "execution_count": null,
   "metadata": {},
   "outputs": [],
   "source": []
  }
 ],
 "metadata": {
  "kernelspec": {
   "display_name": "base",
   "language": "python",
   "name": "python3"
  },
  "language_info": {
   "codemirror_mode": {
    "name": "ipython",
    "version": 3
   },
   "file_extension": ".py",
   "mimetype": "text/x-python",
   "name": "python",
   "nbconvert_exporter": "python",
   "pygments_lexer": "ipython3",
   "version": "3.9.13"
  },
  "orig_nbformat": 4
 },
 "nbformat": 4,
 "nbformat_minor": 2
}
